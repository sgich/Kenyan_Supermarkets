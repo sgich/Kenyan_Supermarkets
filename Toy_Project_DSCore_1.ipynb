{
  "nbformat": 4,
  "nbformat_minor": 0,
  "metadata": {
    "colab": {
      "name": "Toy_Project_DSCore_1",
      "provenance": [],
      "collapsed_sections": [],
      "toc_visible": true
    },
    "kernelspec": {
      "name": "python3",
      "display_name": "Python 3"
    }
  },
  "cells": [
    {
      "cell_type": "markdown",
      "metadata": {
        "id": "ye2Wnfb2JRJn"
      },
      "source": [
        "# Toy Problem: Kenyan Supermarkets Data"
      ]
    },
    {
      "cell_type": "markdown",
      "metadata": {
        "id": "pdd-mXjPJbLH"
      },
      "source": [
        "## Data Handling"
      ]
    },
    {
      "cell_type": "code",
      "metadata": {
        "id": "Yn4AWgmyIIOp"
      },
      "source": [
        "#Importing the relevant libraries\r\n",
        "import pandas as pd\r\n",
        "import numpy as np\r\n",
        "import matplotlib.pyplot as plt\r\n",
        "import seaborn as sns\r\n"
      ],
      "execution_count": 1,
      "outputs": []
    },
    {
      "cell_type": "code",
      "metadata": {
        "id": "PhAdB6_fJlmZ"
      },
      "source": [
        "#load the data\r\n",
        "sp = pd.read_excel('Supermarket Data.xlsx')\r\n"
      ],
      "execution_count": 2,
      "outputs": []
    },
    {
      "cell_type": "code",
      "metadata": {
        "colab": {
          "base_uri": "https://localhost:8080/"
        },
        "id": "F76kCzcRNhQo",
        "outputId": "43568f1d-e6d4-4288-a84b-0a2aadec5a45"
      },
      "source": [
        "sp.shape"
      ],
      "execution_count": 3,
      "outputs": [
        {
          "output_type": "execute_result",
          "data": {
            "text/plain": [
              "(1464, 27)"
            ]
          },
          "metadata": {
            "tags": []
          },
          "execution_count": 3
        }
      ]
    },
    {
      "cell_type": "code",
      "metadata": {
        "colab": {
          "base_uri": "https://localhost:8080/",
          "height": 0
        },
        "id": "88IhqWxqKIih",
        "outputId": "7e721cae-48f3-401f-d212-71761d040101"
      },
      "source": [
        "#check top\r\n",
        "sp.head()"
      ],
      "execution_count": 4,
      "outputs": [
        {
          "output_type": "execute_result",
          "data": {
            "text/html": [
              "<div>\n",
              "<style scoped>\n",
              "    .dataframe tbody tr th:only-of-type {\n",
              "        vertical-align: middle;\n",
              "    }\n",
              "\n",
              "    .dataframe tbody tr th {\n",
              "        vertical-align: top;\n",
              "    }\n",
              "\n",
              "    .dataframe thead th {\n",
              "        text-align: right;\n",
              "    }\n",
              "</style>\n",
              "<table border=\"1\" class=\"dataframe\">\n",
              "  <thead>\n",
              "    <tr style=\"text-align: right;\">\n",
              "      <th></th>\n",
              "      <th>supermarket</th>\n",
              "      <th>no_of_items</th>\n",
              "      <th>variation</th>\n",
              "      <th>total</th>\n",
              "      <th>paid</th>\n",
              "      <th>change</th>\n",
              "      <th>type</th>\n",
              "      <th>food</th>\n",
              "      <th>snack</th>\n",
              "      <th>beverage</th>\n",
              "      <th>consumables</th>\n",
              "      <th>high_end</th>\n",
              "      <th>asset</th>\n",
              "      <th>fixed_asset</th>\n",
              "      <th>date</th>\n",
              "      <th>mall</th>\n",
              "      <th>time</th>\n",
              "      <th>time_type</th>\n",
              "      <th>type_market</th>\n",
              "      <th>location</th>\n",
              "      <th>loc_category</th>\n",
              "      <th>day</th>\n",
              "      <th>day_type</th>\n",
              "      <th>24hr</th>\n",
              "      <th>day.1</th>\n",
              "      <th>month</th>\n",
              "      <th>year</th>\n",
              "    </tr>\n",
              "  </thead>\n",
              "  <tbody>\n",
              "    <tr>\n",
              "      <th>0</th>\n",
              "      <td>acacia</td>\n",
              "      <td>1</td>\n",
              "      <td>1</td>\n",
              "      <td>90.0</td>\n",
              "      <td>100.0</td>\n",
              "      <td>10.0</td>\n",
              "      <td>cash</td>\n",
              "      <td>yes</td>\n",
              "      <td>no</td>\n",
              "      <td>no</td>\n",
              "      <td>no</td>\n",
              "      <td>no</td>\n",
              "      <td>no</td>\n",
              "      <td>no</td>\n",
              "      <td>20/05/2017</td>\n",
              "      <td>no</td>\n",
              "      <td>19:33:00</td>\n",
              "      <td>night</td>\n",
              "      <td>small</td>\n",
              "      <td>saika</td>\n",
              "      <td>mid</td>\n",
              "      <td>saturday</td>\n",
              "      <td>weekend</td>\n",
              "      <td>no</td>\n",
              "      <td>20</td>\n",
              "      <td>5</td>\n",
              "      <td>2017.0</td>\n",
              "    </tr>\n",
              "    <tr>\n",
              "      <th>1</th>\n",
              "      <td>acacia</td>\n",
              "      <td>1</td>\n",
              "      <td>1</td>\n",
              "      <td>90.0</td>\n",
              "      <td>500.0</td>\n",
              "      <td>410.0</td>\n",
              "      <td>cash</td>\n",
              "      <td>yes</td>\n",
              "      <td>no</td>\n",
              "      <td>no</td>\n",
              "      <td>no</td>\n",
              "      <td>no</td>\n",
              "      <td>no</td>\n",
              "      <td>no</td>\n",
              "      <td>20/05/2017</td>\n",
              "      <td>no</td>\n",
              "      <td>19:12:00</td>\n",
              "      <td>night</td>\n",
              "      <td>small</td>\n",
              "      <td>saika</td>\n",
              "      <td>mid</td>\n",
              "      <td>saturday</td>\n",
              "      <td>weekend</td>\n",
              "      <td>no</td>\n",
              "      <td>20</td>\n",
              "      <td>5</td>\n",
              "      <td>2017.0</td>\n",
              "    </tr>\n",
              "    <tr>\n",
              "      <th>2</th>\n",
              "      <td>acacia</td>\n",
              "      <td>3</td>\n",
              "      <td>1</td>\n",
              "      <td>270.0</td>\n",
              "      <td>300.0</td>\n",
              "      <td>30.0</td>\n",
              "      <td>cash</td>\n",
              "      <td>yes</td>\n",
              "      <td>no</td>\n",
              "      <td>no</td>\n",
              "      <td>no</td>\n",
              "      <td>no</td>\n",
              "      <td>no</td>\n",
              "      <td>no</td>\n",
              "      <td>20/05/2017</td>\n",
              "      <td>no</td>\n",
              "      <td>19:16:00</td>\n",
              "      <td>night</td>\n",
              "      <td>small</td>\n",
              "      <td>saika</td>\n",
              "      <td>mid</td>\n",
              "      <td>saturday</td>\n",
              "      <td>weekend</td>\n",
              "      <td>no</td>\n",
              "      <td>20</td>\n",
              "      <td>5</td>\n",
              "      <td>2017.0</td>\n",
              "    </tr>\n",
              "    <tr>\n",
              "      <th>3</th>\n",
              "      <td>acacia</td>\n",
              "      <td>3</td>\n",
              "      <td>1</td>\n",
              "      <td>137.0</td>\n",
              "      <td>200.0</td>\n",
              "      <td>63.0</td>\n",
              "      <td>cash</td>\n",
              "      <td>yes</td>\n",
              "      <td>no</td>\n",
              "      <td>no</td>\n",
              "      <td>no</td>\n",
              "      <td>no</td>\n",
              "      <td>no</td>\n",
              "      <td>no</td>\n",
              "      <td>20/05/2017</td>\n",
              "      <td>no</td>\n",
              "      <td>19:12:00</td>\n",
              "      <td>night</td>\n",
              "      <td>small</td>\n",
              "      <td>saika</td>\n",
              "      <td>mid</td>\n",
              "      <td>saturday</td>\n",
              "      <td>weekend</td>\n",
              "      <td>no</td>\n",
              "      <td>20</td>\n",
              "      <td>5</td>\n",
              "      <td>2017.0</td>\n",
              "    </tr>\n",
              "    <tr>\n",
              "      <th>4</th>\n",
              "      <td>acacia</td>\n",
              "      <td>1</td>\n",
              "      <td>1</td>\n",
              "      <td>75.0</td>\n",
              "      <td>80.0</td>\n",
              "      <td>5.0</td>\n",
              "      <td>cash</td>\n",
              "      <td>yes</td>\n",
              "      <td>no</td>\n",
              "      <td>no</td>\n",
              "      <td>no</td>\n",
              "      <td>no</td>\n",
              "      <td>no</td>\n",
              "      <td>no</td>\n",
              "      <td>20/05/2017</td>\n",
              "      <td>no</td>\n",
              "      <td>18:31:00</td>\n",
              "      <td>afternoon</td>\n",
              "      <td>small</td>\n",
              "      <td>saika</td>\n",
              "      <td>mid</td>\n",
              "      <td>saturday</td>\n",
              "      <td>weekend</td>\n",
              "      <td>no</td>\n",
              "      <td>20</td>\n",
              "      <td>5</td>\n",
              "      <td>2017.0</td>\n",
              "    </tr>\n",
              "  </tbody>\n",
              "</table>\n",
              "</div>"
            ],
            "text/plain": [
              "  supermarket  no_of_items  variation  total  ...  24hr  day.1 month    year\n",
              "0      acacia            1          1   90.0  ...    no     20     5  2017.0\n",
              "1      acacia            1          1   90.0  ...    no     20     5  2017.0\n",
              "2      acacia            3          1  270.0  ...    no     20     5  2017.0\n",
              "3      acacia            3          1  137.0  ...    no     20     5  2017.0\n",
              "4      acacia            1          1   75.0  ...    no     20     5  2017.0\n",
              "\n",
              "[5 rows x 27 columns]"
            ]
          },
          "metadata": {
            "tags": []
          },
          "execution_count": 4
        }
      ]
    },
    {
      "cell_type": "code",
      "metadata": {
        "colab": {
          "base_uri": "https://localhost:8080/",
          "height": 0
        },
        "id": "8DgUsnNHKMG6",
        "outputId": "eaee5d2b-42f1-49c3-f899-2a99f7c0da28"
      },
      "source": [
        "#check tail\r\n",
        "sp.tail()"
      ],
      "execution_count": 5,
      "outputs": [
        {
          "output_type": "execute_result",
          "data": {
            "text/html": [
              "<div>\n",
              "<style scoped>\n",
              "    .dataframe tbody tr th:only-of-type {\n",
              "        vertical-align: middle;\n",
              "    }\n",
              "\n",
              "    .dataframe tbody tr th {\n",
              "        vertical-align: top;\n",
              "    }\n",
              "\n",
              "    .dataframe thead th {\n",
              "        text-align: right;\n",
              "    }\n",
              "</style>\n",
              "<table border=\"1\" class=\"dataframe\">\n",
              "  <thead>\n",
              "    <tr style=\"text-align: right;\">\n",
              "      <th></th>\n",
              "      <th>supermarket</th>\n",
              "      <th>no_of_items</th>\n",
              "      <th>variation</th>\n",
              "      <th>total</th>\n",
              "      <th>paid</th>\n",
              "      <th>change</th>\n",
              "      <th>type</th>\n",
              "      <th>food</th>\n",
              "      <th>snack</th>\n",
              "      <th>beverage</th>\n",
              "      <th>consumables</th>\n",
              "      <th>high_end</th>\n",
              "      <th>asset</th>\n",
              "      <th>fixed_asset</th>\n",
              "      <th>date</th>\n",
              "      <th>mall</th>\n",
              "      <th>time</th>\n",
              "      <th>time_type</th>\n",
              "      <th>type_market</th>\n",
              "      <th>location</th>\n",
              "      <th>loc_category</th>\n",
              "      <th>day</th>\n",
              "      <th>day_type</th>\n",
              "      <th>24hr</th>\n",
              "      <th>day.1</th>\n",
              "      <th>month</th>\n",
              "      <th>year</th>\n",
              "    </tr>\n",
              "  </thead>\n",
              "  <tbody>\n",
              "    <tr>\n",
              "      <th>1459</th>\n",
              "      <td>tuskys</td>\n",
              "      <td>4</td>\n",
              "      <td>3</td>\n",
              "      <td>1810.0</td>\n",
              "      <td>2000.0</td>\n",
              "      <td>190.0</td>\n",
              "      <td>cash</td>\n",
              "      <td>no</td>\n",
              "      <td>yes</td>\n",
              "      <td>no</td>\n",
              "      <td>yes</td>\n",
              "      <td>yes</td>\n",
              "      <td>no</td>\n",
              "      <td>no</td>\n",
              "      <td>2017-06-15 00:00:00</td>\n",
              "      <td>yes</td>\n",
              "      <td>11:28:00</td>\n",
              "      <td>morning</td>\n",
              "      <td>chain</td>\n",
              "      <td>greenspan</td>\n",
              "      <td>mid</td>\n",
              "      <td>Thursday</td>\n",
              "      <td>weekday</td>\n",
              "      <td>no</td>\n",
              "      <td>15</td>\n",
              "      <td>6</td>\n",
              "      <td>2017.0</td>\n",
              "    </tr>\n",
              "    <tr>\n",
              "      <th>1460</th>\n",
              "      <td>nakumatt</td>\n",
              "      <td>2</td>\n",
              "      <td>3</td>\n",
              "      <td>516.0</td>\n",
              "      <td>516.0</td>\n",
              "      <td>0.0</td>\n",
              "      <td>card</td>\n",
              "      <td>yes</td>\n",
              "      <td>no</td>\n",
              "      <td>yes</td>\n",
              "      <td>no</td>\n",
              "      <td>yes</td>\n",
              "      <td>no</td>\n",
              "      <td>no</td>\n",
              "      <td>2017-07-17 00:00:00</td>\n",
              "      <td>yes</td>\n",
              "      <td>21:00:00</td>\n",
              "      <td>night</td>\n",
              "      <td>chain</td>\n",
              "      <td>junction</td>\n",
              "      <td>mid</td>\n",
              "      <td>Monday</td>\n",
              "      <td>weekday</td>\n",
              "      <td>no</td>\n",
              "      <td>17</td>\n",
              "      <td>7</td>\n",
              "      <td>2017.0</td>\n",
              "    </tr>\n",
              "    <tr>\n",
              "      <th>1461</th>\n",
              "      <td>tuskys</td>\n",
              "      <td>2</td>\n",
              "      <td>1</td>\n",
              "      <td>290.0</td>\n",
              "      <td>500.0</td>\n",
              "      <td>210.0</td>\n",
              "      <td>cash</td>\n",
              "      <td>yes</td>\n",
              "      <td>no</td>\n",
              "      <td>no</td>\n",
              "      <td>no</td>\n",
              "      <td>no</td>\n",
              "      <td>no</td>\n",
              "      <td>no</td>\n",
              "      <td>2017-06-30 00:00:00</td>\n",
              "      <td>no</td>\n",
              "      <td>21:09:00</td>\n",
              "      <td>night</td>\n",
              "      <td>chain</td>\n",
              "      <td>cbd</td>\n",
              "      <td>mid</td>\n",
              "      <td>Sunday</td>\n",
              "      <td>weekend</td>\n",
              "      <td>no</td>\n",
              "      <td>30</td>\n",
              "      <td>6</td>\n",
              "      <td>2017.0</td>\n",
              "    </tr>\n",
              "    <tr>\n",
              "      <th>1462</th>\n",
              "      <td>tuskys</td>\n",
              "      <td>5</td>\n",
              "      <td>2</td>\n",
              "      <td>596.0</td>\n",
              "      <td>1000.0</td>\n",
              "      <td>404.0</td>\n",
              "      <td>cash</td>\n",
              "      <td>yes</td>\n",
              "      <td>no</td>\n",
              "      <td>no</td>\n",
              "      <td>yes</td>\n",
              "      <td>no</td>\n",
              "      <td>no</td>\n",
              "      <td>no</td>\n",
              "      <td>2017-05-08 00:00:00</td>\n",
              "      <td>yes</td>\n",
              "      <td>11:00:00</td>\n",
              "      <td>morning</td>\n",
              "      <td>chain</td>\n",
              "      <td>greenspan</td>\n",
              "      <td>mid</td>\n",
              "      <td>Monday</td>\n",
              "      <td>weekday</td>\n",
              "      <td>no</td>\n",
              "      <td>8</td>\n",
              "      <td>5</td>\n",
              "      <td>2017.0</td>\n",
              "    </tr>\n",
              "    <tr>\n",
              "      <th>1463</th>\n",
              "      <td>Eastmatt</td>\n",
              "      <td>2</td>\n",
              "      <td>2</td>\n",
              "      <td>120.0</td>\n",
              "      <td>2000.0</td>\n",
              "      <td>1880.0</td>\n",
              "      <td>cash</td>\n",
              "      <td>yes</td>\n",
              "      <td>yes</td>\n",
              "      <td>no</td>\n",
              "      <td>no</td>\n",
              "      <td>no</td>\n",
              "      <td>no</td>\n",
              "      <td>no</td>\n",
              "      <td>2017-06-23 00:00:00</td>\n",
              "      <td>no</td>\n",
              "      <td>16:51:00</td>\n",
              "      <td>evening</td>\n",
              "      <td>chain</td>\n",
              "      <td>cbd</td>\n",
              "      <td>mid</td>\n",
              "      <td>Friday</td>\n",
              "      <td>weekday</td>\n",
              "      <td>no</td>\n",
              "      <td>23</td>\n",
              "      <td>6</td>\n",
              "      <td>2017.0</td>\n",
              "    </tr>\n",
              "  </tbody>\n",
              "</table>\n",
              "</div>"
            ],
            "text/plain": [
              "     supermarket  no_of_items  variation   total  ...  24hr  day.1 month    year\n",
              "1459      tuskys            4          3  1810.0  ...    no     15     6  2017.0\n",
              "1460    nakumatt            2          3   516.0  ...    no     17     7  2017.0\n",
              "1461      tuskys            2          1   290.0  ...    no     30     6  2017.0\n",
              "1462      tuskys            5          2   596.0  ...    no      8     5  2017.0\n",
              "1463    Eastmatt            2          2   120.0  ...    no     23     6  2017.0\n",
              "\n",
              "[5 rows x 27 columns]"
            ]
          },
          "metadata": {
            "tags": []
          },
          "execution_count": 5
        }
      ]
    },
    {
      "cell_type": "code",
      "metadata": {
        "colab": {
          "base_uri": "https://localhost:8080/"
        },
        "id": "QtQwAng3KUjl",
        "outputId": "326a0670-14bd-4dfa-c24c-a93c4a91ec73"
      },
      "source": [
        "#checking info\r\n",
        "sp.info()"
      ],
      "execution_count": 6,
      "outputs": [
        {
          "output_type": "stream",
          "text": [
            "<class 'pandas.core.frame.DataFrame'>\n",
            "RangeIndex: 1464 entries, 0 to 1463\n",
            "Data columns (total 27 columns):\n",
            " #   Column        Non-Null Count  Dtype  \n",
            "---  ------        --------------  -----  \n",
            " 0   supermarket   1463 non-null   object \n",
            " 1   no_of_items   1464 non-null   int64  \n",
            " 2   variation     1464 non-null   int64  \n",
            " 3   total         1464 non-null   float64\n",
            " 4   paid          1464 non-null   float64\n",
            " 5   change        1464 non-null   float64\n",
            " 6   type          1464 non-null   object \n",
            " 7   food          1464 non-null   object \n",
            " 8   snack         1464 non-null   object \n",
            " 9   beverage      1464 non-null   object \n",
            " 10  consumables   1464 non-null   object \n",
            " 11  high_end      1464 non-null   object \n",
            " 12  asset         1464 non-null   object \n",
            " 13  fixed_asset   1464 non-null   object \n",
            " 14  date          1464 non-null   object \n",
            " 15  mall          1464 non-null   object \n",
            " 16  time          1464 non-null   object \n",
            " 17  time_type     1464 non-null   object \n",
            " 18  type_market   1464 non-null   object \n",
            " 19  location      1464 non-null   object \n",
            " 20  loc_category  1464 non-null   object \n",
            " 21  day           1464 non-null   object \n",
            " 22  day_type      1464 non-null   object \n",
            " 23  24hr          1464 non-null   object \n",
            " 24  day.1         1464 non-null   object \n",
            " 25  month         1464 non-null   int64  \n",
            " 26  year          1462 non-null   float64\n",
            "dtypes: float64(4), int64(3), object(20)\n",
            "memory usage: 308.9+ KB\n"
          ],
          "name": "stdout"
        }
      ]
    },
    {
      "cell_type": "code",
      "metadata": {
        "colab": {
          "base_uri": "https://localhost:8080/",
          "height": 0
        },
        "id": "3qr52DqaLCUg",
        "outputId": "b7f7851c-e91a-4457-b32b-164d4b57deb0"
      },
      "source": [
        "sp.head(2)"
      ],
      "execution_count": 7,
      "outputs": [
        {
          "output_type": "execute_result",
          "data": {
            "text/html": [
              "<div>\n",
              "<style scoped>\n",
              "    .dataframe tbody tr th:only-of-type {\n",
              "        vertical-align: middle;\n",
              "    }\n",
              "\n",
              "    .dataframe tbody tr th {\n",
              "        vertical-align: top;\n",
              "    }\n",
              "\n",
              "    .dataframe thead th {\n",
              "        text-align: right;\n",
              "    }\n",
              "</style>\n",
              "<table border=\"1\" class=\"dataframe\">\n",
              "  <thead>\n",
              "    <tr style=\"text-align: right;\">\n",
              "      <th></th>\n",
              "      <th>supermarket</th>\n",
              "      <th>no_of_items</th>\n",
              "      <th>variation</th>\n",
              "      <th>total</th>\n",
              "      <th>paid</th>\n",
              "      <th>change</th>\n",
              "      <th>type</th>\n",
              "      <th>food</th>\n",
              "      <th>snack</th>\n",
              "      <th>beverage</th>\n",
              "      <th>consumables</th>\n",
              "      <th>high_end</th>\n",
              "      <th>asset</th>\n",
              "      <th>fixed_asset</th>\n",
              "      <th>date</th>\n",
              "      <th>mall</th>\n",
              "      <th>time</th>\n",
              "      <th>time_type</th>\n",
              "      <th>type_market</th>\n",
              "      <th>location</th>\n",
              "      <th>loc_category</th>\n",
              "      <th>day</th>\n",
              "      <th>day_type</th>\n",
              "      <th>24hr</th>\n",
              "      <th>day.1</th>\n",
              "      <th>month</th>\n",
              "      <th>year</th>\n",
              "    </tr>\n",
              "  </thead>\n",
              "  <tbody>\n",
              "    <tr>\n",
              "      <th>0</th>\n",
              "      <td>acacia</td>\n",
              "      <td>1</td>\n",
              "      <td>1</td>\n",
              "      <td>90.0</td>\n",
              "      <td>100.0</td>\n",
              "      <td>10.0</td>\n",
              "      <td>cash</td>\n",
              "      <td>yes</td>\n",
              "      <td>no</td>\n",
              "      <td>no</td>\n",
              "      <td>no</td>\n",
              "      <td>no</td>\n",
              "      <td>no</td>\n",
              "      <td>no</td>\n",
              "      <td>20/05/2017</td>\n",
              "      <td>no</td>\n",
              "      <td>19:33:00</td>\n",
              "      <td>night</td>\n",
              "      <td>small</td>\n",
              "      <td>saika</td>\n",
              "      <td>mid</td>\n",
              "      <td>saturday</td>\n",
              "      <td>weekend</td>\n",
              "      <td>no</td>\n",
              "      <td>20</td>\n",
              "      <td>5</td>\n",
              "      <td>2017.0</td>\n",
              "    </tr>\n",
              "    <tr>\n",
              "      <th>1</th>\n",
              "      <td>acacia</td>\n",
              "      <td>1</td>\n",
              "      <td>1</td>\n",
              "      <td>90.0</td>\n",
              "      <td>500.0</td>\n",
              "      <td>410.0</td>\n",
              "      <td>cash</td>\n",
              "      <td>yes</td>\n",
              "      <td>no</td>\n",
              "      <td>no</td>\n",
              "      <td>no</td>\n",
              "      <td>no</td>\n",
              "      <td>no</td>\n",
              "      <td>no</td>\n",
              "      <td>20/05/2017</td>\n",
              "      <td>no</td>\n",
              "      <td>19:12:00</td>\n",
              "      <td>night</td>\n",
              "      <td>small</td>\n",
              "      <td>saika</td>\n",
              "      <td>mid</td>\n",
              "      <td>saturday</td>\n",
              "      <td>weekend</td>\n",
              "      <td>no</td>\n",
              "      <td>20</td>\n",
              "      <td>5</td>\n",
              "      <td>2017.0</td>\n",
              "    </tr>\n",
              "  </tbody>\n",
              "</table>\n",
              "</div>"
            ],
            "text/plain": [
              "  supermarket  no_of_items  variation  total  ...  24hr  day.1 month    year\n",
              "0      acacia            1          1   90.0  ...    no     20     5  2017.0\n",
              "1      acacia            1          1   90.0  ...    no     20     5  2017.0\n",
              "\n",
              "[2 rows x 27 columns]"
            ]
          },
          "metadata": {
            "tags": []
          },
          "execution_count": 7
        }
      ]
    },
    {
      "cell_type": "code",
      "metadata": {
        "colab": {
          "base_uri": "https://localhost:8080/",
          "height": 0
        },
        "id": "uyxfa0wIK95c",
        "outputId": "83ef0c76-b127-4315-8909-6d6226fef44c"
      },
      "source": [
        "#validity of data (drop columns)\r\n",
        "sp.drop(sp.columns[[4,5,12,13,20,21,22,23,24,25,26]], axis=1, inplace=True)\r\n",
        "sp\r\n"
      ],
      "execution_count": 8,
      "outputs": [
        {
          "output_type": "execute_result",
          "data": {
            "text/html": [
              "<div>\n",
              "<style scoped>\n",
              "    .dataframe tbody tr th:only-of-type {\n",
              "        vertical-align: middle;\n",
              "    }\n",
              "\n",
              "    .dataframe tbody tr th {\n",
              "        vertical-align: top;\n",
              "    }\n",
              "\n",
              "    .dataframe thead th {\n",
              "        text-align: right;\n",
              "    }\n",
              "</style>\n",
              "<table border=\"1\" class=\"dataframe\">\n",
              "  <thead>\n",
              "    <tr style=\"text-align: right;\">\n",
              "      <th></th>\n",
              "      <th>supermarket</th>\n",
              "      <th>no_of_items</th>\n",
              "      <th>variation</th>\n",
              "      <th>total</th>\n",
              "      <th>type</th>\n",
              "      <th>food</th>\n",
              "      <th>snack</th>\n",
              "      <th>beverage</th>\n",
              "      <th>consumables</th>\n",
              "      <th>high_end</th>\n",
              "      <th>date</th>\n",
              "      <th>mall</th>\n",
              "      <th>time</th>\n",
              "      <th>time_type</th>\n",
              "      <th>type_market</th>\n",
              "      <th>location</th>\n",
              "    </tr>\n",
              "  </thead>\n",
              "  <tbody>\n",
              "    <tr>\n",
              "      <th>0</th>\n",
              "      <td>acacia</td>\n",
              "      <td>1</td>\n",
              "      <td>1</td>\n",
              "      <td>90.0</td>\n",
              "      <td>cash</td>\n",
              "      <td>yes</td>\n",
              "      <td>no</td>\n",
              "      <td>no</td>\n",
              "      <td>no</td>\n",
              "      <td>no</td>\n",
              "      <td>20/05/2017</td>\n",
              "      <td>no</td>\n",
              "      <td>19:33:00</td>\n",
              "      <td>night</td>\n",
              "      <td>small</td>\n",
              "      <td>saika</td>\n",
              "    </tr>\n",
              "    <tr>\n",
              "      <th>1</th>\n",
              "      <td>acacia</td>\n",
              "      <td>1</td>\n",
              "      <td>1</td>\n",
              "      <td>90.0</td>\n",
              "      <td>cash</td>\n",
              "      <td>yes</td>\n",
              "      <td>no</td>\n",
              "      <td>no</td>\n",
              "      <td>no</td>\n",
              "      <td>no</td>\n",
              "      <td>20/05/2017</td>\n",
              "      <td>no</td>\n",
              "      <td>19:12:00</td>\n",
              "      <td>night</td>\n",
              "      <td>small</td>\n",
              "      <td>saika</td>\n",
              "    </tr>\n",
              "    <tr>\n",
              "      <th>2</th>\n",
              "      <td>acacia</td>\n",
              "      <td>3</td>\n",
              "      <td>1</td>\n",
              "      <td>270.0</td>\n",
              "      <td>cash</td>\n",
              "      <td>yes</td>\n",
              "      <td>no</td>\n",
              "      <td>no</td>\n",
              "      <td>no</td>\n",
              "      <td>no</td>\n",
              "      <td>20/05/2017</td>\n",
              "      <td>no</td>\n",
              "      <td>19:16:00</td>\n",
              "      <td>night</td>\n",
              "      <td>small</td>\n",
              "      <td>saika</td>\n",
              "    </tr>\n",
              "    <tr>\n",
              "      <th>3</th>\n",
              "      <td>acacia</td>\n",
              "      <td>3</td>\n",
              "      <td>1</td>\n",
              "      <td>137.0</td>\n",
              "      <td>cash</td>\n",
              "      <td>yes</td>\n",
              "      <td>no</td>\n",
              "      <td>no</td>\n",
              "      <td>no</td>\n",
              "      <td>no</td>\n",
              "      <td>20/05/2017</td>\n",
              "      <td>no</td>\n",
              "      <td>19:12:00</td>\n",
              "      <td>night</td>\n",
              "      <td>small</td>\n",
              "      <td>saika</td>\n",
              "    </tr>\n",
              "    <tr>\n",
              "      <th>4</th>\n",
              "      <td>acacia</td>\n",
              "      <td>1</td>\n",
              "      <td>1</td>\n",
              "      <td>75.0</td>\n",
              "      <td>cash</td>\n",
              "      <td>yes</td>\n",
              "      <td>no</td>\n",
              "      <td>no</td>\n",
              "      <td>no</td>\n",
              "      <td>no</td>\n",
              "      <td>20/05/2017</td>\n",
              "      <td>no</td>\n",
              "      <td>18:31:00</td>\n",
              "      <td>afternoon</td>\n",
              "      <td>small</td>\n",
              "      <td>saika</td>\n",
              "    </tr>\n",
              "    <tr>\n",
              "      <th>...</th>\n",
              "      <td>...</td>\n",
              "      <td>...</td>\n",
              "      <td>...</td>\n",
              "      <td>...</td>\n",
              "      <td>...</td>\n",
              "      <td>...</td>\n",
              "      <td>...</td>\n",
              "      <td>...</td>\n",
              "      <td>...</td>\n",
              "      <td>...</td>\n",
              "      <td>...</td>\n",
              "      <td>...</td>\n",
              "      <td>...</td>\n",
              "      <td>...</td>\n",
              "      <td>...</td>\n",
              "      <td>...</td>\n",
              "    </tr>\n",
              "    <tr>\n",
              "      <th>1459</th>\n",
              "      <td>tuskys</td>\n",
              "      <td>4</td>\n",
              "      <td>3</td>\n",
              "      <td>1810.0</td>\n",
              "      <td>cash</td>\n",
              "      <td>no</td>\n",
              "      <td>yes</td>\n",
              "      <td>no</td>\n",
              "      <td>yes</td>\n",
              "      <td>yes</td>\n",
              "      <td>2017-06-15 00:00:00</td>\n",
              "      <td>yes</td>\n",
              "      <td>11:28:00</td>\n",
              "      <td>morning</td>\n",
              "      <td>chain</td>\n",
              "      <td>greenspan</td>\n",
              "    </tr>\n",
              "    <tr>\n",
              "      <th>1460</th>\n",
              "      <td>nakumatt</td>\n",
              "      <td>2</td>\n",
              "      <td>3</td>\n",
              "      <td>516.0</td>\n",
              "      <td>card</td>\n",
              "      <td>yes</td>\n",
              "      <td>no</td>\n",
              "      <td>yes</td>\n",
              "      <td>no</td>\n",
              "      <td>yes</td>\n",
              "      <td>2017-07-17 00:00:00</td>\n",
              "      <td>yes</td>\n",
              "      <td>21:00:00</td>\n",
              "      <td>night</td>\n",
              "      <td>chain</td>\n",
              "      <td>junction</td>\n",
              "    </tr>\n",
              "    <tr>\n",
              "      <th>1461</th>\n",
              "      <td>tuskys</td>\n",
              "      <td>2</td>\n",
              "      <td>1</td>\n",
              "      <td>290.0</td>\n",
              "      <td>cash</td>\n",
              "      <td>yes</td>\n",
              "      <td>no</td>\n",
              "      <td>no</td>\n",
              "      <td>no</td>\n",
              "      <td>no</td>\n",
              "      <td>2017-06-30 00:00:00</td>\n",
              "      <td>no</td>\n",
              "      <td>21:09:00</td>\n",
              "      <td>night</td>\n",
              "      <td>chain</td>\n",
              "      <td>cbd</td>\n",
              "    </tr>\n",
              "    <tr>\n",
              "      <th>1462</th>\n",
              "      <td>tuskys</td>\n",
              "      <td>5</td>\n",
              "      <td>2</td>\n",
              "      <td>596.0</td>\n",
              "      <td>cash</td>\n",
              "      <td>yes</td>\n",
              "      <td>no</td>\n",
              "      <td>no</td>\n",
              "      <td>yes</td>\n",
              "      <td>no</td>\n",
              "      <td>2017-05-08 00:00:00</td>\n",
              "      <td>yes</td>\n",
              "      <td>11:00:00</td>\n",
              "      <td>morning</td>\n",
              "      <td>chain</td>\n",
              "      <td>greenspan</td>\n",
              "    </tr>\n",
              "    <tr>\n",
              "      <th>1463</th>\n",
              "      <td>Eastmatt</td>\n",
              "      <td>2</td>\n",
              "      <td>2</td>\n",
              "      <td>120.0</td>\n",
              "      <td>cash</td>\n",
              "      <td>yes</td>\n",
              "      <td>yes</td>\n",
              "      <td>no</td>\n",
              "      <td>no</td>\n",
              "      <td>no</td>\n",
              "      <td>2017-06-23 00:00:00</td>\n",
              "      <td>no</td>\n",
              "      <td>16:51:00</td>\n",
              "      <td>evening</td>\n",
              "      <td>chain</td>\n",
              "      <td>cbd</td>\n",
              "    </tr>\n",
              "  </tbody>\n",
              "</table>\n",
              "<p>1464 rows × 16 columns</p>\n",
              "</div>"
            ],
            "text/plain": [
              "     supermarket  no_of_items  variation  ...  time_type type_market   location\n",
              "0         acacia            1          1  ...      night       small      saika\n",
              "1         acacia            1          1  ...      night       small      saika\n",
              "2         acacia            3          1  ...      night       small      saika\n",
              "3         acacia            3          1  ...      night       small      saika\n",
              "4         acacia            1          1  ...  afternoon       small      saika\n",
              "...          ...          ...        ...  ...        ...         ...        ...\n",
              "1459      tuskys            4          3  ...    morning       chain  greenspan\n",
              "1460    nakumatt            2          3  ...      night       chain   junction\n",
              "1461      tuskys            2          1  ...      night       chain        cbd\n",
              "1462      tuskys            5          2  ...    morning       chain  greenspan\n",
              "1463    Eastmatt            2          2  ...    evening       chain        cbd\n",
              "\n",
              "[1464 rows x 16 columns]"
            ]
          },
          "metadata": {
            "tags": []
          },
          "execution_count": 8
        }
      ]
    },
    {
      "cell_type": "code",
      "metadata": {
        "colab": {
          "base_uri": "https://localhost:8080/"
        },
        "id": "kSKcXCRyNXtK",
        "outputId": "406d0809-3f87-4980-f26e-4ecea89e720a"
      },
      "source": [
        "#check nulls\r\n",
        "sp.isnull().any()"
      ],
      "execution_count": 9,
      "outputs": [
        {
          "output_type": "execute_result",
          "data": {
            "text/plain": [
              "supermarket     True\n",
              "no_of_items    False\n",
              "variation      False\n",
              "total          False\n",
              "type           False\n",
              "food           False\n",
              "snack          False\n",
              "beverage       False\n",
              "consumables    False\n",
              "high_end       False\n",
              "date           False\n",
              "mall           False\n",
              "time           False\n",
              "time_type      False\n",
              "type_market    False\n",
              "location       False\n",
              "dtype: bool"
            ]
          },
          "metadata": {
            "tags": []
          },
          "execution_count": 9
        }
      ]
    },
    {
      "cell_type": "code",
      "metadata": {
        "colab": {
          "base_uri": "https://localhost:8080/"
        },
        "id": "a1ql7W_5NmyN",
        "outputId": "2205b873-9cea-4ad4-b1ee-b4687fa55ffb"
      },
      "source": [
        "sp.isnull().values.sum()"
      ],
      "execution_count": 10,
      "outputs": [
        {
          "output_type": "execute_result",
          "data": {
            "text/plain": [
              "1"
            ]
          },
          "metadata": {
            "tags": []
          },
          "execution_count": 10
        }
      ]
    },
    {
      "cell_type": "code",
      "metadata": {
        "id": "BayPzy5aNfXW"
      },
      "source": [
        "#dealing with nulls\r\n",
        "sp.dropna(axis=0, how='any', inplace=True)"
      ],
      "execution_count": 11,
      "outputs": []
    },
    {
      "cell_type": "code",
      "metadata": {
        "colab": {
          "base_uri": "https://localhost:8080/"
        },
        "id": "pxHgJ5xgN_lo",
        "outputId": "a8766ff2-09d9-4f9c-a612-ad7c811e3e6c"
      },
      "source": [
        "sp.shape"
      ],
      "execution_count": 12,
      "outputs": [
        {
          "output_type": "execute_result",
          "data": {
            "text/plain": [
              "(1463, 16)"
            ]
          },
          "metadata": {
            "tags": []
          },
          "execution_count": 12
        }
      ]
    },
    {
      "cell_type": "code",
      "metadata": {
        "colab": {
          "base_uri": "https://localhost:8080/"
        },
        "id": "ItcrB2qNOTes",
        "outputId": "e2676ace-201f-42dd-f7c1-929dde040e26"
      },
      "source": [
        "#making all text lowercase in supermarket\r\n",
        "sp.supermarket.apply(lambda x: x.lower())"
      ],
      "execution_count": 13,
      "outputs": [
        {
          "output_type": "execute_result",
          "data": {
            "text/plain": [
              "0         acacia\n",
              "1         acacia\n",
              "2         acacia\n",
              "3         acacia\n",
              "4         acacia\n",
              "          ...   \n",
              "1459      tuskys\n",
              "1460    nakumatt\n",
              "1461      tuskys\n",
              "1462      tuskys\n",
              "1463    eastmatt\n",
              "Name: supermarket, Length: 1463, dtype: object"
            ]
          },
          "metadata": {
            "tags": []
          },
          "execution_count": 13
        }
      ]
    },
    {
      "cell_type": "code",
      "metadata": {
        "id": "6S7H87yRR_Yt"
      },
      "source": [
        "#trying to convert date\r\n",
        "sp['date'] = pd.to_datetime(sp.date, errors='coerce')\r\n",
        "\r\n",
        "\r\n",
        "sp['date'] = sp['date'].dt.strftime('%Y-%m-%d %H:%M')"
      ],
      "execution_count": 14,
      "outputs": []
    },
    {
      "cell_type": "code",
      "metadata": {
        "id": "932wMdlaSVKG"
      },
      "source": [
        "#sp['date'] = sp['date'].replace(['17?06/2017'], '17/06/2017')\r\n",
        "#sp['date'] = sp['date'].replace(['201-05-23 00:00:00'], '2017-05-23 00:00:00')\r\n",
        "#sp['date'] = sp['date'].replace(['201-05-23 00:00:00'], '2017-05-23')\r\n"
      ],
      "execution_count": 15,
      "outputs": []
    },
    {
      "cell_type": "code",
      "metadata": {
        "id": "YbSPSHkbU7FO"
      },
      "source": [
        "#set date as index\r\n",
        "sp.set_index(sp.date, drop=True,inplace=True)\r\n",
        "sp.tail()\r\n",
        "\r\n",
        "#convert the index to datetimeIndex\r\n",
        "sp.index = pd.to_datetime(sp.index)\r\n"
      ],
      "execution_count": 16,
      "outputs": []
    },
    {
      "cell_type": "code",
      "metadata": {
        "colab": {
          "base_uri": "https://localhost:8080/",
          "height": 0
        },
        "id": "bWAYb1U8VKpQ",
        "outputId": "35580583-8b59-4b8f-b514-d0e1c27fab17"
      },
      "source": [
        "#drop date column\r\n",
        "sp.drop('date', axis=1, inplace=True)\r\n",
        "sp.tail()"
      ],
      "execution_count": 17,
      "outputs": [
        {
          "output_type": "execute_result",
          "data": {
            "text/html": [
              "<div>\n",
              "<style scoped>\n",
              "    .dataframe tbody tr th:only-of-type {\n",
              "        vertical-align: middle;\n",
              "    }\n",
              "\n",
              "    .dataframe tbody tr th {\n",
              "        vertical-align: top;\n",
              "    }\n",
              "\n",
              "    .dataframe thead th {\n",
              "        text-align: right;\n",
              "    }\n",
              "</style>\n",
              "<table border=\"1\" class=\"dataframe\">\n",
              "  <thead>\n",
              "    <tr style=\"text-align: right;\">\n",
              "      <th></th>\n",
              "      <th>supermarket</th>\n",
              "      <th>no_of_items</th>\n",
              "      <th>variation</th>\n",
              "      <th>total</th>\n",
              "      <th>type</th>\n",
              "      <th>food</th>\n",
              "      <th>snack</th>\n",
              "      <th>beverage</th>\n",
              "      <th>consumables</th>\n",
              "      <th>high_end</th>\n",
              "      <th>mall</th>\n",
              "      <th>time</th>\n",
              "      <th>time_type</th>\n",
              "      <th>type_market</th>\n",
              "      <th>location</th>\n",
              "    </tr>\n",
              "    <tr>\n",
              "      <th>date</th>\n",
              "      <th></th>\n",
              "      <th></th>\n",
              "      <th></th>\n",
              "      <th></th>\n",
              "      <th></th>\n",
              "      <th></th>\n",
              "      <th></th>\n",
              "      <th></th>\n",
              "      <th></th>\n",
              "      <th></th>\n",
              "      <th></th>\n",
              "      <th></th>\n",
              "      <th></th>\n",
              "      <th></th>\n",
              "      <th></th>\n",
              "    </tr>\n",
              "  </thead>\n",
              "  <tbody>\n",
              "    <tr>\n",
              "      <th>2017-06-15</th>\n",
              "      <td>tuskys</td>\n",
              "      <td>4</td>\n",
              "      <td>3</td>\n",
              "      <td>1810.0</td>\n",
              "      <td>cash</td>\n",
              "      <td>no</td>\n",
              "      <td>yes</td>\n",
              "      <td>no</td>\n",
              "      <td>yes</td>\n",
              "      <td>yes</td>\n",
              "      <td>yes</td>\n",
              "      <td>11:28:00</td>\n",
              "      <td>morning</td>\n",
              "      <td>chain</td>\n",
              "      <td>greenspan</td>\n",
              "    </tr>\n",
              "    <tr>\n",
              "      <th>2017-07-17</th>\n",
              "      <td>nakumatt</td>\n",
              "      <td>2</td>\n",
              "      <td>3</td>\n",
              "      <td>516.0</td>\n",
              "      <td>card</td>\n",
              "      <td>yes</td>\n",
              "      <td>no</td>\n",
              "      <td>yes</td>\n",
              "      <td>no</td>\n",
              "      <td>yes</td>\n",
              "      <td>yes</td>\n",
              "      <td>21:00:00</td>\n",
              "      <td>night</td>\n",
              "      <td>chain</td>\n",
              "      <td>junction</td>\n",
              "    </tr>\n",
              "    <tr>\n",
              "      <th>2017-06-30</th>\n",
              "      <td>tuskys</td>\n",
              "      <td>2</td>\n",
              "      <td>1</td>\n",
              "      <td>290.0</td>\n",
              "      <td>cash</td>\n",
              "      <td>yes</td>\n",
              "      <td>no</td>\n",
              "      <td>no</td>\n",
              "      <td>no</td>\n",
              "      <td>no</td>\n",
              "      <td>no</td>\n",
              "      <td>21:09:00</td>\n",
              "      <td>night</td>\n",
              "      <td>chain</td>\n",
              "      <td>cbd</td>\n",
              "    </tr>\n",
              "    <tr>\n",
              "      <th>2017-05-08</th>\n",
              "      <td>tuskys</td>\n",
              "      <td>5</td>\n",
              "      <td>2</td>\n",
              "      <td>596.0</td>\n",
              "      <td>cash</td>\n",
              "      <td>yes</td>\n",
              "      <td>no</td>\n",
              "      <td>no</td>\n",
              "      <td>yes</td>\n",
              "      <td>no</td>\n",
              "      <td>yes</td>\n",
              "      <td>11:00:00</td>\n",
              "      <td>morning</td>\n",
              "      <td>chain</td>\n",
              "      <td>greenspan</td>\n",
              "    </tr>\n",
              "    <tr>\n",
              "      <th>2017-06-23</th>\n",
              "      <td>Eastmatt</td>\n",
              "      <td>2</td>\n",
              "      <td>2</td>\n",
              "      <td>120.0</td>\n",
              "      <td>cash</td>\n",
              "      <td>yes</td>\n",
              "      <td>yes</td>\n",
              "      <td>no</td>\n",
              "      <td>no</td>\n",
              "      <td>no</td>\n",
              "      <td>no</td>\n",
              "      <td>16:51:00</td>\n",
              "      <td>evening</td>\n",
              "      <td>chain</td>\n",
              "      <td>cbd</td>\n",
              "    </tr>\n",
              "  </tbody>\n",
              "</table>\n",
              "</div>"
            ],
            "text/plain": [
              "           supermarket  no_of_items  variation  ...  time_type type_market   location\n",
              "date                                            ...                                  \n",
              "2017-06-15      tuskys            4          3  ...    morning       chain  greenspan\n",
              "2017-07-17    nakumatt            2          3  ...      night       chain   junction\n",
              "2017-06-30      tuskys            2          1  ...      night       chain        cbd\n",
              "2017-05-08      tuskys            5          2  ...    morning       chain  greenspan\n",
              "2017-06-23    Eastmatt            2          2  ...    evening       chain        cbd\n",
              "\n",
              "[5 rows x 15 columns]"
            ]
          },
          "metadata": {
            "tags": []
          },
          "execution_count": 17
        }
      ]
    },
    {
      "cell_type": "code",
      "metadata": {
        "colab": {
          "base_uri": "https://localhost:8080/",
          "height": 0
        },
        "id": "-eoDE0wZa_xs",
        "outputId": "3d55e5f2-e44a-4880-bac8-f789222f807b"
      },
      "source": [
        "# Checking for Outliers & Anomalies\r\n",
        "fig, (ax1, ax2,ax3) = plt.subplots(1,3, figsize=(15, 4))\r\n",
        "fig.suptitle('Boxplots')\r\n",
        "sns.boxplot(x = sp['no_of_items'], ax=ax1, showmeans = True)\r\n",
        "sns.boxplot(x = sp['variation'], ax=ax2, showmeans = True)\r\n",
        "sns.boxplot(x = sp['total'], ax=ax3, showmeans = True)\r\n",
        "plt.show()"
      ],
      "execution_count": 18,
      "outputs": [
        {
          "output_type": "display_data",
          "data": {
            "image/png": "[encoded data removed]",
            "text/plain": [
              "<Figure size 1080x288 with 3 Axes>"
            ]
          },
          "metadata": {
            "tags": [],
            "needs_background": "light"
          }
        }
      ]
    },
    {
      "cell_type": "markdown",
      "metadata": {
        "id": "tlOtSnfnaZhq"
      },
      "source": [
        "## Univariate Analysis"
      ]
    },
    {
      "cell_type": "code",
      "metadata": {
        "colab": {
          "base_uri": "https://localhost:8080/",
          "height": 284
        },
        "id": "bE4_j3dBadAq",
        "outputId": "fd9bdcd1-3f0b-439d-f21e-a21344c55877"
      },
      "source": [
        "#overall stats of the data\r\n",
        "sp.describe()"
      ],
      "execution_count": 19,
      "outputs": [
        {
          "output_type": "execute_result",
          "data": {
            "text/html": [
              "<div>\n",
              "<style scoped>\n",
              "    .dataframe tbody tr th:only-of-type {\n",
              "        vertical-align: middle;\n",
              "    }\n",
              "\n",
              "    .dataframe tbody tr th {\n",
              "        vertical-align: top;\n",
              "    }\n",
              "\n",
              "    .dataframe thead th {\n",
              "        text-align: right;\n",
              "    }\n",
              "</style>\n",
              "<table border=\"1\" class=\"dataframe\">\n",
              "  <thead>\n",
              "    <tr style=\"text-align: right;\">\n",
              "      <th></th>\n",
              "      <th>no_of_items</th>\n",
              "      <th>variation</th>\n",
              "      <th>total</th>\n",
              "    </tr>\n",
              "  </thead>\n",
              "  <tbody>\n",
              "    <tr>\n",
              "      <th>count</th>\n",
              "      <td>1463.000000</td>\n",
              "      <td>1463.000000</td>\n",
              "      <td>1463.000000</td>\n",
              "    </tr>\n",
              "    <tr>\n",
              "      <th>mean</th>\n",
              "      <td>2.309638</td>\n",
              "      <td>1.398496</td>\n",
              "      <td>311.952946</td>\n",
              "    </tr>\n",
              "    <tr>\n",
              "      <th>std</th>\n",
              "      <td>2.648430</td>\n",
              "      <td>0.731674</td>\n",
              "      <td>924.367898</td>\n",
              "    </tr>\n",
              "    <tr>\n",
              "      <th>min</th>\n",
              "      <td>1.000000</td>\n",
              "      <td>1.000000</td>\n",
              "      <td>1.000000</td>\n",
              "    </tr>\n",
              "    <tr>\n",
              "      <th>25%</th>\n",
              "      <td>1.000000</td>\n",
              "      <td>1.000000</td>\n",
              "      <td>60.000000</td>\n",
              "    </tr>\n",
              "    <tr>\n",
              "      <th>50%</th>\n",
              "      <td>1.000000</td>\n",
              "      <td>1.000000</td>\n",
              "      <td>110.000000</td>\n",
              "    </tr>\n",
              "    <tr>\n",
              "      <th>75%</th>\n",
              "      <td>3.000000</td>\n",
              "      <td>2.000000</td>\n",
              "      <td>250.000000</td>\n",
              "    </tr>\n",
              "    <tr>\n",
              "      <th>max</th>\n",
              "      <td>33.000000</td>\n",
              "      <td>6.000000</td>\n",
              "      <td>17350.000000</td>\n",
              "    </tr>\n",
              "  </tbody>\n",
              "</table>\n",
              "</div>"
            ],
            "text/plain": [
              "       no_of_items    variation         total\n",
              "count  1463.000000  1463.000000   1463.000000\n",
              "mean      2.309638     1.398496    311.952946\n",
              "std       2.648430     0.731674    924.367898\n",
              "min       1.000000     1.000000      1.000000\n",
              "25%       1.000000     1.000000     60.000000\n",
              "50%       1.000000     1.000000    110.000000\n",
              "75%       3.000000     2.000000    250.000000\n",
              "max      33.000000     6.000000  17350.000000"
            ]
          },
          "metadata": {
            "tags": []
          },
          "execution_count": 19
        }
      ]
    },
    {
      "cell_type": "code",
      "metadata": {
        "colab": {
          "base_uri": "https://localhost:8080/"
        },
        "id": "REMFo_WCev7n",
        "outputId": "99d26a0a-526a-482b-a7c4-20061727d797"
      },
      "source": [
        "#unique values per column\r\n",
        "for column in sp: \r\n",
        "     \r\n",
        "    # Select column contents by column    \r\n",
        "    # name using [] operator \r\n",
        "    columnSeriesObj = sp[column].nunique() \r\n",
        "    print('Colunm Name : ', column) \r\n",
        "    print('No. of unique items in Column: ', columnSeriesObj) "
      ],
      "execution_count": 20,
      "outputs": [
        {
          "output_type": "stream",
          "text": [
            "Colunm Name :  supermarket\n",
            "No. of unique items in Column:  24\n",
            "Colunm Name :  no_of_items\n",
            "No. of unique items in Column:  22\n",
            "Colunm Name :  variation\n",
            "No. of unique items in Column:  6\n",
            "Colunm Name :  total\n",
            "No. of unique items in Column:  426\n",
            "Colunm Name :  type\n",
            "No. of unique items in Column:  7\n",
            "Colunm Name :  food\n",
            "No. of unique items in Column:  2\n",
            "Colunm Name :  snack\n",
            "No. of unique items in Column:  2\n",
            "Colunm Name :  beverage\n",
            "No. of unique items in Column:  2\n",
            "Colunm Name :  consumables\n",
            "No. of unique items in Column:  2\n",
            "Colunm Name :  high_end\n",
            "No. of unique items in Column:  2\n",
            "Colunm Name :  mall\n",
            "No. of unique items in Column:  2\n",
            "Colunm Name :  time\n",
            "No. of unique items in Column:  688\n",
            "Colunm Name :  time_type\n",
            "No. of unique items in Column:  5\n",
            "Colunm Name :  type_market\n",
            "No. of unique items in Column:  3\n",
            "Colunm Name :  location\n",
            "No. of unique items in Column:  30\n"
          ],
          "name": "stdout"
        }
      ]
    },
    {
      "cell_type": "code",
      "metadata": {
        "colab": {
          "base_uri": "https://localhost:8080/"
        },
        "id": "nHe9FjbDcz85",
        "outputId": "a5a57bcf-1b17-448c-bb01-7b5660c0fdf4"
      },
      "source": [
        "#Measures of central tendency and dispersion\r\n",
        "#no of items\r\n",
        "print(f'Min: {sp.no_of_items.min()}')\r\n",
        "print(f'Q1: {sp.no_of_items.quantile(.25)}')\r\n",
        "print(f'Q2: {sp.no_of_items.quantile(.50)}')\r\n",
        "print(f'Q3: {sp.no_of_items.quantile(.75)}')\r\n",
        "print(f'Max: {sp.no_of_items.max()}')\r\n",
        "print('*'*15)\r\n",
        "\r\n",
        "print(f'Mean: {sp.no_of_items.mean()}')\r\n",
        "print(f'Median: {sp.no_of_items.median()}')\r\n",
        "print(f'Mode: {sp.no_of_items.mode().values[0]}')\r\n",
        "print('*'*15)\r\n",
        "\r\n",
        "print(f'Skew: {sp.no_of_items.skew()}')\r\n",
        "print(f'Kurtosis: {sp.no_of_items.kurt()}')\r\n",
        "\r\n"
      ],
      "execution_count": 21,
      "outputs": [
        {
          "output_type": "stream",
          "text": [
            "Min: 1\n",
            "Q1: 1.0\n",
            "Q2: 1.0\n",
            "Q3: 3.0\n",
            "Max: 33\n",
            "***************\n",
            "Mean: 2.3096377306903624\n",
            "Median: 1.0\n",
            "Mode: 1\n",
            "***************\n",
            "Skew: 4.960648535773933\n",
            "Kurtosis: 36.64844293425158\n"
          ],
          "name": "stdout"
        }
      ]
    },
    {
      "cell_type": "code",
      "metadata": {
        "colab": {
          "base_uri": "https://localhost:8080/"
        },
        "id": "djAHKfawc0va",
        "outputId": "005a31c9-2385-45ea-881f-a39df7d1937c"
      },
      "source": [
        "#Measures of central tendency and dispersion\r\n",
        "#variation\r\n",
        "print(f'Min: {sp.variation.min()}')\r\n",
        "print(f'Q1: {sp.variation.quantile(.25)}')\r\n",
        "print(f'Q2: {sp.variation.quantile(.50)}')\r\n",
        "print(f'Q3: {sp.variation.quantile(.75)}')\r\n",
        "print(f'Max: {sp.variation.max()}')\r\n",
        "print('*'*15)\r\n",
        "\r\n",
        "print(f'Mean: {sp.variation.mean()}')\r\n",
        "print(f'Median: {sp.variation.median()}')\r\n",
        "print(f'Mode: {sp.variation.mode().values[0]}')\r\n",
        "print('*'*15)\r\n",
        "\r\n",
        "print(f'Skew: {sp.variation.skew()}')\r\n",
        "print(f'Kurtosis: {sp.variation.kurt()}')"
      ],
      "execution_count": 22,
      "outputs": [
        {
          "output_type": "stream",
          "text": [
            "Min: 1\n",
            "Q1: 1.0\n",
            "Q2: 1.0\n",
            "Q3: 2.0\n",
            "Max: 6\n",
            "***************\n",
            "Mean: 1.3984962406015038\n",
            "Median: 1.0\n",
            "Mode: 1\n",
            "***************\n",
            "Skew: 2.180066281840615\n",
            "Kurtosis: 5.498991046424874\n"
          ],
          "name": "stdout"
        }
      ]
    },
    {
      "cell_type": "code",
      "metadata": {
        "colab": {
          "base_uri": "https://localhost:8080/",
          "height": 143
        },
        "id": "Elxa0EGYgyI1",
        "outputId": "abc18d2c-b75b-45be-9ba6-7c75e0b03692"
      },
      "source": [
        "sp.head(1)"
      ],
      "execution_count": 23,
      "outputs": [
        {
          "output_type": "execute_result",
          "data": {
            "text/html": [
              "<div>\n",
              "<style scoped>\n",
              "    .dataframe tbody tr th:only-of-type {\n",
              "        vertical-align: middle;\n",
              "    }\n",
              "\n",
              "    .dataframe tbody tr th {\n",
              "        vertical-align: top;\n",
              "    }\n",
              "\n",
              "    .dataframe thead th {\n",
              "        text-align: right;\n",
              "    }\n",
              "</style>\n",
              "<table border=\"1\" class=\"dataframe\">\n",
              "  <thead>\n",
              "    <tr style=\"text-align: right;\">\n",
              "      <th></th>\n",
              "      <th>supermarket</th>\n",
              "      <th>no_of_items</th>\n",
              "      <th>variation</th>\n",
              "      <th>total</th>\n",
              "      <th>type</th>\n",
              "      <th>food</th>\n",
              "      <th>snack</th>\n",
              "      <th>beverage</th>\n",
              "      <th>consumables</th>\n",
              "      <th>high_end</th>\n",
              "      <th>mall</th>\n",
              "      <th>time</th>\n",
              "      <th>time_type</th>\n",
              "      <th>type_market</th>\n",
              "      <th>location</th>\n",
              "    </tr>\n",
              "    <tr>\n",
              "      <th>date</th>\n",
              "      <th></th>\n",
              "      <th></th>\n",
              "      <th></th>\n",
              "      <th></th>\n",
              "      <th></th>\n",
              "      <th></th>\n",
              "      <th></th>\n",
              "      <th></th>\n",
              "      <th></th>\n",
              "      <th></th>\n",
              "      <th></th>\n",
              "      <th></th>\n",
              "      <th></th>\n",
              "      <th></th>\n",
              "      <th></th>\n",
              "    </tr>\n",
              "  </thead>\n",
              "  <tbody>\n",
              "    <tr>\n",
              "      <th>2017-05-20</th>\n",
              "      <td>acacia</td>\n",
              "      <td>1</td>\n",
              "      <td>1</td>\n",
              "      <td>90.0</td>\n",
              "      <td>cash</td>\n",
              "      <td>yes</td>\n",
              "      <td>no</td>\n",
              "      <td>no</td>\n",
              "      <td>no</td>\n",
              "      <td>no</td>\n",
              "      <td>no</td>\n",
              "      <td>19:33:00</td>\n",
              "      <td>night</td>\n",
              "      <td>small</td>\n",
              "      <td>saika</td>\n",
              "    </tr>\n",
              "  </tbody>\n",
              "</table>\n",
              "</div>"
            ],
            "text/plain": [
              "           supermarket  no_of_items  variation  ...  time_type type_market location\n",
              "date                                            ...                                \n",
              "2017-05-20      acacia            1          1  ...      night       small    saika\n",
              "\n",
              "[1 rows x 15 columns]"
            ]
          },
          "metadata": {
            "tags": []
          },
          "execution_count": 23
        }
      ]
    },
    {
      "cell_type": "code",
      "metadata": {
        "colab": {
          "base_uri": "https://localhost:8080/"
        },
        "id": "zirTBWgCgf5q",
        "outputId": "3f1b54ae-9578-42a0-844b-2b82a64bf848"
      },
      "source": [
        "#Measures of central tendency and dispersion\r\n",
        "#total (money spent)\r\n",
        "print(f'Min: {sp.total.min()}')\r\n",
        "print(f'Q1: {sp.total.quantile(.25)}')\r\n",
        "print(f'Q2: {sp.total.quantile(.50)}')\r\n",
        "print(f'Q3: {sp.total.quantile(.75)}')\r\n",
        "print(f'Max: {sp.total.max()}')\r\n",
        "print('*'*15)\r\n",
        "\r\n",
        "print(f'Mean: {sp.total.mean()}')\r\n",
        "print(f'Median: {sp.total.median()}')\r\n",
        "print(f'Mode: {sp.total.mode().values[0]}')\r\n",
        "print('*'*15)\r\n",
        "\r\n",
        "print(f'Skew: {sp.total.skew()}')\r\n",
        "print(f'Kurtosis: {sp.total.kurt()}')"
      ],
      "execution_count": 24,
      "outputs": [
        {
          "output_type": "stream",
          "text": [
            "Min: 1.0\n",
            "Q1: 60.0\n",
            "Q2: 110.0\n",
            "Q3: 250.0\n",
            "Max: 17350.0\n",
            "***************\n",
            "Mean: 311.952946001367\n",
            "Median: 110.0\n",
            "Mode: 60.0\n",
            "***************\n",
            "Skew: 10.912011137269673\n",
            "Kurtosis: 152.81896184157688\n"
          ],
          "name": "stdout"
        }
      ]
    },
    {
      "cell_type": "code",
      "metadata": {
        "colab": {
          "base_uri": "https://localhost:8080/",
          "height": 384
        },
        "id": "TeDIwfmnhEBl",
        "outputId": "75c06551-7cc6-4750-a894-e4b6e86cf5ec"
      },
      "source": [
        "#Visual look at the no of items data\r\n",
        "sns.displot(sp['no_of_items'], kind='hist',bins=10, kde=False)\r\n",
        "plt.ylabel(\"Frequency\")\r\n",
        "plt.xlabel(\"Number of Items Purchased\")\r\n",
        "plt.title(\"Purchased Items Frequency Histogram\")\r\n",
        "plt.show()"
      ],
      "execution_count": 25,
      "outputs": [
        {
          "output_type": "display_data",
          "data": {
            "image/png": "[encoded data removed]",
            "text/plain": [
              "<Figure size 360x360 with 1 Axes>"
            ]
          },
          "metadata": {
            "tags": [],
            "needs_background": "light"
          }
        }
      ]
    },
    {
      "cell_type": "code",
      "metadata": {
        "colab": {
          "base_uri": "https://localhost:8080/",
          "height": 385
        },
        "id": "UIXUCxBjhE-6",
        "outputId": "b4a2a42d-3caf-4704-c1bd-d310419b926d"
      },
      "source": [
        "#Visual look at the variation data\r\n",
        "sns.displot(sp['variation'], kind='hist',bins=10, kde=False)\r\n",
        "plt.ylabel(\"Frequency\")\r\n",
        "plt.xlabel(\"Variety of Products Bought\")\r\n",
        "plt.title(\"Variety of Products Bought Frequency Histogram\")\r\n",
        "plt.show()"
      ],
      "execution_count": 26,
      "outputs": [
        {
          "output_type": "display_data",
          "data": {
            "image/png": "[encoded data removed]",
            "text/plain": [
              "<Figure size 360x360 with 1 Axes>"
            ]
          },
          "metadata": {
            "tags": [],
            "needs_background": "light"
          }
        }
      ]
    },
    {
      "cell_type": "code",
      "metadata": {
        "colab": {
          "base_uri": "https://localhost:8080/",
          "height": 385
        },
        "id": "Loin08sNhFro",
        "outputId": "feb371c1-762e-4838-d759-0838de26196a"
      },
      "source": [
        "#Visual look at the total money spent data\r\n",
        "sns.displot(sp['total'], kind='hist',bins=10, kde=False)\r\n",
        "plt.ylabel(\"Frequency\")\r\n",
        "plt.xlabel(\"Total Money Spent\")\r\n",
        "plt.title(\"Money Spent in Supermarket Frequency Histogram\")\r\n",
        "plt.show()"
      ],
      "execution_count": 27,
      "outputs": [
        {
          "output_type": "display_data",
          "data": {
            "image/png": "[encoded data removed]",
            "text/plain": [
              "<Figure size 360x360 with 1 Axes>"
            ]
          },
          "metadata": {
            "tags": [],
            "needs_background": "light"
          }
        }
      ]
    },
    {
      "cell_type": "markdown",
      "metadata": {
        "id": "3GeDhqzhad_b"
      },
      "source": [
        "## Bivariate Analysis"
      ]
    },
    {
      "cell_type": "code",
      "metadata": {
        "colab": {
          "base_uri": "https://localhost:8080/",
          "height": 270
        },
        "id": "XMTCxK17aj-W",
        "outputId": "397e7c29-fd7c-4ef2-ca28-d802e54a0895"
      },
      "source": [
        "# Ploting the bivariate summaries and recording our observations\r\n",
        "#Numerical to Numerical:Correlation\r\n",
        "#checking correlations\r\n",
        "sns.heatmap(sp.corr(),annot=True)\r\n",
        "plt.show()"
      ],
      "execution_count": 28,
      "outputs": [
        {
          "output_type": "display_data",
          "data": {
            "image/png": "[encoded data removed]",
            "text/plain": [
              "<Figure size 432x288 with 2 Axes>"
            ]
          },
          "metadata": {
            "tags": [],
            "needs_background": "light"
          }
        }
      ]
    },
    {
      "cell_type": "code",
      "metadata": {
        "colab": {
          "base_uri": "https://localhost:8080/",
          "height": 550
        },
        "id": "1yqwCcoah_Kr",
        "outputId": "e12d7de3-f3ce-47b3-9f3c-913c5ef5525b"
      },
      "source": [
        "#Pair plot(summary of relationships)\r\n",
        "sns.pairplot(sp, diag_kind='kde')\r\n",
        "plt.show()"
      ],
      "execution_count": 29,
      "outputs": [
        {
          "output_type": "display_data",
          "data": {
            "image/png": "[encoded data removed]",
            "text/plain": [
              "<Figure size 540x540 with 12 Axes>"
            ]
          },
          "metadata": {
            "tags": [],
            "needs_background": "light"
          }
        }
      ]
    },
    {
      "cell_type": "code",
      "metadata": {
        "colab": {
          "base_uri": "https://localhost:8080/",
          "height": 286
        },
        "id": "aH5ZDutRiHXl",
        "outputId": "898f1d9c-605f-426d-8921-4c151e08aaa6"
      },
      "source": [
        "#plotting trends\r\n",
        "sp['no_of_items'].plot()"
      ],
      "execution_count": 30,
      "outputs": [
        {
          "output_type": "execute_result",
          "data": {
            "text/plain": [
              "<matplotlib.axes._subplots.AxesSubplot at 0x7fa9975267b8>"
            ]
          },
          "metadata": {
            "tags": []
          },
          "execution_count": 30
        },
        {
          "output_type": "display_data",
          "data": {
            "image/png": "[encoded data removed]",
            "text/plain": [
              "<Figure size 432x288 with 1 Axes>"
            ]
          },
          "metadata": {
            "tags": [],
            "needs_background": "light"
          }
        }
      ]
    },
    {
      "cell_type": "code",
      "metadata": {
        "colab": {
          "base_uri": "https://localhost:8080/",
          "height": 619
        },
        "id": "zHYkhT_YsvFn",
        "outputId": "370bce90-5d6d-4c70-f912-90df04550115"
      },
      "source": [
        "#due to the out of bounds dates, we subset the data to only 2017\r\n",
        "spc = sp.loc['2017']\r\n",
        "spc"
      ],
      "execution_count": 31,
      "outputs": [
        {
          "output_type": "execute_result",
          "data": {
            "text/html": [
              "<div>\n",
              "<style scoped>\n",
              "    .dataframe tbody tr th:only-of-type {\n",
              "        vertical-align: middle;\n",
              "    }\n",
              "\n",
              "    .dataframe tbody tr th {\n",
              "        vertical-align: top;\n",
              "    }\n",
              "\n",
              "    .dataframe thead th {\n",
              "        text-align: right;\n",
              "    }\n",
              "</style>\n",
              "<table border=\"1\" class=\"dataframe\">\n",
              "  <thead>\n",
              "    <tr style=\"text-align: right;\">\n",
              "      <th></th>\n",
              "      <th>supermarket</th>\n",
              "      <th>no_of_items</th>\n",
              "      <th>variation</th>\n",
              "      <th>total</th>\n",
              "      <th>type</th>\n",
              "      <th>food</th>\n",
              "      <th>snack</th>\n",
              "      <th>beverage</th>\n",
              "      <th>consumables</th>\n",
              "      <th>high_end</th>\n",
              "      <th>mall</th>\n",
              "      <th>time</th>\n",
              "      <th>time_type</th>\n",
              "      <th>type_market</th>\n",
              "      <th>location</th>\n",
              "    </tr>\n",
              "    <tr>\n",
              "      <th>date</th>\n",
              "      <th></th>\n",
              "      <th></th>\n",
              "      <th></th>\n",
              "      <th></th>\n",
              "      <th></th>\n",
              "      <th></th>\n",
              "      <th></th>\n",
              "      <th></th>\n",
              "      <th></th>\n",
              "      <th></th>\n",
              "      <th></th>\n",
              "      <th></th>\n",
              "      <th></th>\n",
              "      <th></th>\n",
              "      <th></th>\n",
              "    </tr>\n",
              "  </thead>\n",
              "  <tbody>\n",
              "    <tr>\n",
              "      <th>2017-05-20</th>\n",
              "      <td>acacia</td>\n",
              "      <td>1</td>\n",
              "      <td>1</td>\n",
              "      <td>90.0</td>\n",
              "      <td>cash</td>\n",
              "      <td>yes</td>\n",
              "      <td>no</td>\n",
              "      <td>no</td>\n",
              "      <td>no</td>\n",
              "      <td>no</td>\n",
              "      <td>no</td>\n",
              "      <td>19:33:00</td>\n",
              "      <td>night</td>\n",
              "      <td>small</td>\n",
              "      <td>saika</td>\n",
              "    </tr>\n",
              "    <tr>\n",
              "      <th>2017-05-20</th>\n",
              "      <td>acacia</td>\n",
              "      <td>1</td>\n",
              "      <td>1</td>\n",
              "      <td>90.0</td>\n",
              "      <td>cash</td>\n",
              "      <td>yes</td>\n",
              "      <td>no</td>\n",
              "      <td>no</td>\n",
              "      <td>no</td>\n",
              "      <td>no</td>\n",
              "      <td>no</td>\n",
              "      <td>19:12:00</td>\n",
              "      <td>night</td>\n",
              "      <td>small</td>\n",
              "      <td>saika</td>\n",
              "    </tr>\n",
              "    <tr>\n",
              "      <th>2017-05-20</th>\n",
              "      <td>acacia</td>\n",
              "      <td>3</td>\n",
              "      <td>1</td>\n",
              "      <td>270.0</td>\n",
              "      <td>cash</td>\n",
              "      <td>yes</td>\n",
              "      <td>no</td>\n",
              "      <td>no</td>\n",
              "      <td>no</td>\n",
              "      <td>no</td>\n",
              "      <td>no</td>\n",
              "      <td>19:16:00</td>\n",
              "      <td>night</td>\n",
              "      <td>small</td>\n",
              "      <td>saika</td>\n",
              "    </tr>\n",
              "    <tr>\n",
              "      <th>2017-05-20</th>\n",
              "      <td>acacia</td>\n",
              "      <td>3</td>\n",
              "      <td>1</td>\n",
              "      <td>137.0</td>\n",
              "      <td>cash</td>\n",
              "      <td>yes</td>\n",
              "      <td>no</td>\n",
              "      <td>no</td>\n",
              "      <td>no</td>\n",
              "      <td>no</td>\n",
              "      <td>no</td>\n",
              "      <td>19:12:00</td>\n",
              "      <td>night</td>\n",
              "      <td>small</td>\n",
              "      <td>saika</td>\n",
              "    </tr>\n",
              "    <tr>\n",
              "      <th>2017-05-20</th>\n",
              "      <td>acacia</td>\n",
              "      <td>1</td>\n",
              "      <td>1</td>\n",
              "      <td>75.0</td>\n",
              "      <td>cash</td>\n",
              "      <td>yes</td>\n",
              "      <td>no</td>\n",
              "      <td>no</td>\n",
              "      <td>no</td>\n",
              "      <td>no</td>\n",
              "      <td>no</td>\n",
              "      <td>18:31:00</td>\n",
              "      <td>afternoon</td>\n",
              "      <td>small</td>\n",
              "      <td>saika</td>\n",
              "    </tr>\n",
              "    <tr>\n",
              "      <th>...</th>\n",
              "      <td>...</td>\n",
              "      <td>...</td>\n",
              "      <td>...</td>\n",
              "      <td>...</td>\n",
              "      <td>...</td>\n",
              "      <td>...</td>\n",
              "      <td>...</td>\n",
              "      <td>...</td>\n",
              "      <td>...</td>\n",
              "      <td>...</td>\n",
              "      <td>...</td>\n",
              "      <td>...</td>\n",
              "      <td>...</td>\n",
              "      <td>...</td>\n",
              "      <td>...</td>\n",
              "    </tr>\n",
              "    <tr>\n",
              "      <th>2017-06-15</th>\n",
              "      <td>tuskys</td>\n",
              "      <td>4</td>\n",
              "      <td>3</td>\n",
              "      <td>1810.0</td>\n",
              "      <td>cash</td>\n",
              "      <td>no</td>\n",
              "      <td>yes</td>\n",
              "      <td>no</td>\n",
              "      <td>yes</td>\n",
              "      <td>yes</td>\n",
              "      <td>yes</td>\n",
              "      <td>11:28:00</td>\n",
              "      <td>morning</td>\n",
              "      <td>chain</td>\n",
              "      <td>greenspan</td>\n",
              "    </tr>\n",
              "    <tr>\n",
              "      <th>2017-07-17</th>\n",
              "      <td>nakumatt</td>\n",
              "      <td>2</td>\n",
              "      <td>3</td>\n",
              "      <td>516.0</td>\n",
              "      <td>card</td>\n",
              "      <td>yes</td>\n",
              "      <td>no</td>\n",
              "      <td>yes</td>\n",
              "      <td>no</td>\n",
              "      <td>yes</td>\n",
              "      <td>yes</td>\n",
              "      <td>21:00:00</td>\n",
              "      <td>night</td>\n",
              "      <td>chain</td>\n",
              "      <td>junction</td>\n",
              "    </tr>\n",
              "    <tr>\n",
              "      <th>2017-06-30</th>\n",
              "      <td>tuskys</td>\n",
              "      <td>2</td>\n",
              "      <td>1</td>\n",
              "      <td>290.0</td>\n",
              "      <td>cash</td>\n",
              "      <td>yes</td>\n",
              "      <td>no</td>\n",
              "      <td>no</td>\n",
              "      <td>no</td>\n",
              "      <td>no</td>\n",
              "      <td>no</td>\n",
              "      <td>21:09:00</td>\n",
              "      <td>night</td>\n",
              "      <td>chain</td>\n",
              "      <td>cbd</td>\n",
              "    </tr>\n",
              "    <tr>\n",
              "      <th>2017-05-08</th>\n",
              "      <td>tuskys</td>\n",
              "      <td>5</td>\n",
              "      <td>2</td>\n",
              "      <td>596.0</td>\n",
              "      <td>cash</td>\n",
              "      <td>yes</td>\n",
              "      <td>no</td>\n",
              "      <td>no</td>\n",
              "      <td>yes</td>\n",
              "      <td>no</td>\n",
              "      <td>yes</td>\n",
              "      <td>11:00:00</td>\n",
              "      <td>morning</td>\n",
              "      <td>chain</td>\n",
              "      <td>greenspan</td>\n",
              "    </tr>\n",
              "    <tr>\n",
              "      <th>2017-06-23</th>\n",
              "      <td>Eastmatt</td>\n",
              "      <td>2</td>\n",
              "      <td>2</td>\n",
              "      <td>120.0</td>\n",
              "      <td>cash</td>\n",
              "      <td>yes</td>\n",
              "      <td>yes</td>\n",
              "      <td>no</td>\n",
              "      <td>no</td>\n",
              "      <td>no</td>\n",
              "      <td>no</td>\n",
              "      <td>16:51:00</td>\n",
              "      <td>evening</td>\n",
              "      <td>chain</td>\n",
              "      <td>cbd</td>\n",
              "    </tr>\n",
              "  </tbody>\n",
              "</table>\n",
              "<p>1432 rows × 15 columns</p>\n",
              "</div>"
            ],
            "text/plain": [
              "           supermarket  no_of_items  ...  type_market   location\n",
              "date                                 ...                        \n",
              "2017-05-20      acacia            1  ...        small      saika\n",
              "2017-05-20      acacia            1  ...        small      saika\n",
              "2017-05-20      acacia            3  ...        small      saika\n",
              "2017-05-20      acacia            3  ...        small      saika\n",
              "2017-05-20      acacia            1  ...        small      saika\n",
              "...                ...          ...  ...          ...        ...\n",
              "2017-06-15      tuskys            4  ...        chain  greenspan\n",
              "2017-07-17    nakumatt            2  ...        chain   junction\n",
              "2017-06-30      tuskys            2  ...        chain        cbd\n",
              "2017-05-08      tuskys            5  ...        chain  greenspan\n",
              "2017-06-23    Eastmatt            2  ...        chain        cbd\n",
              "\n",
              "[1432 rows x 15 columns]"
            ]
          },
          "metadata": {
            "tags": []
          },
          "execution_count": 31
        }
      ]
    },
    {
      "cell_type": "code",
      "metadata": {
        "colab": {
          "base_uri": "https://localhost:8080/",
          "height": 294
        },
        "id": "s9iuSrzDwbAR",
        "outputId": "4f148955-ba3c-44e0-9d20-5f0c4ce4cf4a"
      },
      "source": [
        "#plotting trends\r\n",
        "spc['no_of_items'].plot()"
      ],
      "execution_count": 32,
      "outputs": [
        {
          "output_type": "execute_result",
          "data": {
            "text/plain": [
              "<matplotlib.axes._subplots.AxesSubplot at 0x7fa997465080>"
            ]
          },
          "metadata": {
            "tags": []
          },
          "execution_count": 32
        },
        {
          "output_type": "display_data",
          "data": {
            "image/png": "[encoded data removed]",
            "text/plain": [
              "<Figure size 432x288 with 1 Axes>"
            ]
          },
          "metadata": {
            "tags": [],
            "needs_background": "light"
          }
        }
      ]
    },
    {
      "cell_type": "code",
      "metadata": {
        "colab": {
          "base_uri": "https://localhost:8080/",
          "height": 294
        },
        "id": "WXnJWaa2i2vj",
        "outputId": "e7f199dd-db77-4670-d35d-e60ba2a88683"
      },
      "source": [
        "#plotting trends\r\n",
        "spc['variation'].plot()"
      ],
      "execution_count": 33,
      "outputs": [
        {
          "output_type": "execute_result",
          "data": {
            "text/plain": [
              "<matplotlib.axes._subplots.AxesSubplot at 0x7fa9976a7828>"
            ]
          },
          "metadata": {
            "tags": []
          },
          "execution_count": 33
        },
        {
          "output_type": "display_data",
          "data": {
            "image/png": "[encoded data removed]",
            "text/plain": [
              "<Figure size 432x288 with 1 Axes>"
            ]
          },
          "metadata": {
            "tags": [],
            "needs_background": "light"
          }
        }
      ]
    },
    {
      "cell_type": "code",
      "metadata": {
        "colab": {
          "base_uri": "https://localhost:8080/",
          "height": 294
        },
        "id": "eeamdsqkkBiG",
        "outputId": "62736b9e-508b-4c4f-bda0-c265a27298f8"
      },
      "source": [
        "#plotting trends\r\n",
        "spc['total'].plot()"
      ],
      "execution_count": 34,
      "outputs": [
        {
          "output_type": "execute_result",
          "data": {
            "text/plain": [
              "<matplotlib.axes._subplots.AxesSubplot at 0x7fa9975a2c88>"
            ]
          },
          "metadata": {
            "tags": []
          },
          "execution_count": 34
        },
        {
          "output_type": "display_data",
          "data": {
            "image/png": "[encoded data removed]",
            "text/plain": [
              "<Figure size 432x288 with 1 Axes>"
            ]
          },
          "metadata": {
            "tags": [],
            "needs_background": "light"
          }
        }
      ]
    },
    {
      "cell_type": "code",
      "metadata": {
        "colab": {
          "base_uri": "https://localhost:8080/",
          "height": 280
        },
        "id": "sdVioxsYxB6q",
        "outputId": "c540d54a-f85a-405e-f49f-b1586477f20f"
      },
      "source": [
        "#scatter plot variation and number of items\r\n",
        "sns.scatterplot(x= spc['no_of_items'], y= spc['variation'])\r\n",
        "plt.show()"
      ],
      "execution_count": 35,
      "outputs": [
        {
          "output_type": "display_data",
          "data": {
            "image/png": "[encoded data removed]",
            "text/plain": [
              "<Figure size 432x288 with 1 Axes>"
            ]
          },
          "metadata": {
            "tags": [],
            "needs_background": "light"
          }
        }
      ]
    },
    {
      "cell_type": "code",
      "metadata": {
        "colab": {
          "base_uri": "https://localhost:8080/",
          "height": 280
        },
        "id": "OKQ3iKZvxaFO",
        "outputId": "41b349c9-86fe-4be4-f9de-4a430cd95de1"
      },
      "source": [
        "#scatter plot total and number of items\r\n",
        "sns.scatterplot(x= spc['no_of_items'], y= spc['total'])\r\n",
        "plt.show()"
      ],
      "execution_count": 36,
      "outputs": [
        {
          "output_type": "display_data",
          "data": {
            "image/png": "[encoded data removed]",
            "text/plain": [
              "<Figure size 432x288 with 1 Axes>"
            ]
          },
          "metadata": {
            "tags": [],
            "needs_background": "light"
          }
        }
      ]
    },
    {
      "cell_type": "code",
      "metadata": {
        "colab": {
          "base_uri": "https://localhost:8080/",
          "height": 585
        },
        "id": "rb-ZKScQwmZm",
        "outputId": "ddb5262a-80dd-4b43-cd21-4b0aef19b9e8"
      },
      "source": [
        "#histogram to view the subset data for 2017\r\n",
        "sns.displot(x = spc['total'], height=8 )\r\n",
        "plt.show()"
      ],
      "execution_count": 37,
      "outputs": [
        {
          "output_type": "display_data",
          "data": {
            "image/png": "[encoded data removed]",
            "text/plain": [
              "<Figure size 576x576 with 1 Axes>"
            ]
          },
          "metadata": {
            "tags": [],
            "needs_background": "light"
          }
        }
      ]
    },
    {
      "cell_type": "code",
      "metadata": {
        "id": "J0HLZvyEyHZ5"
      },
      "source": [
        "#export the cleaned data\r\n",
        "\r\n",
        "spc.to_csv(r'Kenya_Supermarkets.csv')"
      ],
      "execution_count": 38,
      "outputs": []
    },
    {
      "cell_type": "markdown",
      "metadata": {
        "id": "IdOIVB9nx1mg"
      },
      "source": [
        "## Linear Discriminant Analysis"
      ]
    },
    {
      "cell_type": "code",
      "metadata": {
        "colab": {
          "base_uri": "https://localhost:8080/",
          "height": 190
        },
        "id": "dC4kKFVLw0lW",
        "outputId": "05b32928-a854-426f-9549-f35959bd5a57"
      },
      "source": [
        "spc.head(2)"
      ],
      "execution_count": null,
      "outputs": [
        {
          "output_type": "execute_result",
          "data": {
            "text/html": [
              "<div>\n",
              "<style scoped>\n",
              "    .dataframe tbody tr th:only-of-type {\n",
              "        vertical-align: middle;\n",
              "    }\n",
              "\n",
              "    .dataframe tbody tr th {\n",
              "        vertical-align: top;\n",
              "    }\n",
              "\n",
              "    .dataframe thead th {\n",
              "        text-align: right;\n",
              "    }\n",
              "</style>\n",
              "<table border=\"1\" class=\"dataframe\">\n",
              "  <thead>\n",
              "    <tr style=\"text-align: right;\">\n",
              "      <th></th>\n",
              "      <th>supermarket</th>\n",
              "      <th>no_of_items</th>\n",
              "      <th>variation</th>\n",
              "      <th>total</th>\n",
              "      <th>type</th>\n",
              "      <th>food</th>\n",
              "      <th>snack</th>\n",
              "      <th>beverage</th>\n",
              "      <th>consumables</th>\n",
              "      <th>high_end</th>\n",
              "      <th>mall</th>\n",
              "      <th>time</th>\n",
              "      <th>time_type</th>\n",
              "      <th>type_market</th>\n",
              "      <th>location</th>\n",
              "    </tr>\n",
              "    <tr>\n",
              "      <th>date</th>\n",
              "      <th></th>\n",
              "      <th></th>\n",
              "      <th></th>\n",
              "      <th></th>\n",
              "      <th></th>\n",
              "      <th></th>\n",
              "      <th></th>\n",
              "      <th></th>\n",
              "      <th></th>\n",
              "      <th></th>\n",
              "      <th></th>\n",
              "      <th></th>\n",
              "      <th></th>\n",
              "      <th></th>\n",
              "      <th></th>\n",
              "    </tr>\n",
              "  </thead>\n",
              "  <tbody>\n",
              "    <tr>\n",
              "      <th>2017-05-20</th>\n",
              "      <td>acacia</td>\n",
              "      <td>1</td>\n",
              "      <td>1</td>\n",
              "      <td>90.0</td>\n",
              "      <td>cash</td>\n",
              "      <td>yes</td>\n",
              "      <td>no</td>\n",
              "      <td>no</td>\n",
              "      <td>no</td>\n",
              "      <td>no</td>\n",
              "      <td>no</td>\n",
              "      <td>19:33:00</td>\n",
              "      <td>night</td>\n",
              "      <td>small</td>\n",
              "      <td>saika</td>\n",
              "    </tr>\n",
              "    <tr>\n",
              "      <th>2017-05-20</th>\n",
              "      <td>acacia</td>\n",
              "      <td>1</td>\n",
              "      <td>1</td>\n",
              "      <td>90.0</td>\n",
              "      <td>cash</td>\n",
              "      <td>yes</td>\n",
              "      <td>no</td>\n",
              "      <td>no</td>\n",
              "      <td>no</td>\n",
              "      <td>no</td>\n",
              "      <td>no</td>\n",
              "      <td>19:12:00</td>\n",
              "      <td>night</td>\n",
              "      <td>small</td>\n",
              "      <td>saika</td>\n",
              "    </tr>\n",
              "  </tbody>\n",
              "</table>\n",
              "</div>"
            ],
            "text/plain": [
              "           supermarket  no_of_items  variation  ...  time_type type_market location\n",
              "date                                            ...                                \n",
              "2017-05-20      acacia            1          1  ...      night       small    saika\n",
              "2017-05-20      acacia            1          1  ...      night       small    saika\n",
              "\n",
              "[2 rows x 15 columns]"
            ]
          },
          "metadata": {
            "tags": []
          },
          "execution_count": 59
        }
      ]
    },
    {
      "cell_type": "code",
      "metadata": {
        "colab": {
          "base_uri": "https://localhost:8080/"
        },
        "id": "yM-wr-oGMjx-",
        "outputId": "8fd14c07-00ac-46a5-ecbc-210b6f5545b3"
      },
      "source": [
        "spc.location.unique()"
      ],
      "execution_count": null,
      "outputs": [
        {
          "output_type": "execute_result",
          "data": {
            "text/plain": [
              "array(['saika', 'yaya', 'kilimani', 'donholm', 'umoja', 'cbd', 'eldoret',\n",
              "       'mwiki', 'nairobi west', 'langata', 'Kitengela', 'ongata rongai',\n",
              "       'junction', 'kangundo road', 'karen', 'komarock', 'prestige',\n",
              "       'adlife', 'karasha', 'greenspan', 'eastlands', 'ruaraka', 'mega',\n",
              "       'Donholm', 'gami', 'kiambu', 'kericho town', 'adams'], dtype=object)"
            ]
          },
          "metadata": {
            "tags": []
          },
          "execution_count": 62
        }
      ]
    },
    {
      "cell_type": "code",
      "metadata": {
        "colab": {
          "base_uri": "https://localhost:8080/"
        },
        "id": "KFCak8C1MnaZ",
        "outputId": "0cc7985e-6153-426a-d299-f61ac3678685"
      },
      "source": [
        "spc.shape"
      ],
      "execution_count": null,
      "outputs": [
        {
          "output_type": "execute_result",
          "data": {
            "text/plain": [
              "(1432, 15)"
            ]
          },
          "metadata": {
            "tags": []
          },
          "execution_count": 55
        }
      ]
    },
    {
      "cell_type": "code",
      "metadata": {
        "id": "rTDr86RcNVAX"
      },
      "source": [
        "# create the lda model\r\n",
        "model = LinearDiscriminantAnalysis()"
      ],
      "execution_count": null,
      "outputs": []
    },
    {
      "cell_type": "code",
      "metadata": {
        "colab": {
          "base_uri": "https://localhost:8080/",
          "height": 190
        },
        "id": "RWHLoq7RT8KX",
        "outputId": "fa69034d-b829-4268-84ff-579400139919"
      },
      "source": [
        "spc.head(2)"
      ],
      "execution_count": null,
      "outputs": [
        {
          "output_type": "execute_result",
          "data": {
            "text/html": [
              "<div>\n",
              "<style scoped>\n",
              "    .dataframe tbody tr th:only-of-type {\n",
              "        vertical-align: middle;\n",
              "    }\n",
              "\n",
              "    .dataframe tbody tr th {\n",
              "        vertical-align: top;\n",
              "    }\n",
              "\n",
              "    .dataframe thead th {\n",
              "        text-align: right;\n",
              "    }\n",
              "</style>\n",
              "<table border=\"1\" class=\"dataframe\">\n",
              "  <thead>\n",
              "    <tr style=\"text-align: right;\">\n",
              "      <th></th>\n",
              "      <th>supermarket</th>\n",
              "      <th>no_of_items</th>\n",
              "      <th>variation</th>\n",
              "      <th>total</th>\n",
              "      <th>type</th>\n",
              "      <th>food</th>\n",
              "      <th>snack</th>\n",
              "      <th>beverage</th>\n",
              "      <th>consumables</th>\n",
              "      <th>high_end</th>\n",
              "      <th>mall</th>\n",
              "      <th>time</th>\n",
              "      <th>time_type</th>\n",
              "      <th>type_market</th>\n",
              "      <th>location</th>\n",
              "    </tr>\n",
              "    <tr>\n",
              "      <th>date</th>\n",
              "      <th></th>\n",
              "      <th></th>\n",
              "      <th></th>\n",
              "      <th></th>\n",
              "      <th></th>\n",
              "      <th></th>\n",
              "      <th></th>\n",
              "      <th></th>\n",
              "      <th></th>\n",
              "      <th></th>\n",
              "      <th></th>\n",
              "      <th></th>\n",
              "      <th></th>\n",
              "      <th></th>\n",
              "      <th></th>\n",
              "    </tr>\n",
              "  </thead>\n",
              "  <tbody>\n",
              "    <tr>\n",
              "      <th>2017-05-20</th>\n",
              "      <td>acacia</td>\n",
              "      <td>1</td>\n",
              "      <td>1</td>\n",
              "      <td>90.0</td>\n",
              "      <td>cash</td>\n",
              "      <td>yes</td>\n",
              "      <td>no</td>\n",
              "      <td>no</td>\n",
              "      <td>no</td>\n",
              "      <td>no</td>\n",
              "      <td>no</td>\n",
              "      <td>19:33:00</td>\n",
              "      <td>night</td>\n",
              "      <td>small</td>\n",
              "      <td>saika</td>\n",
              "    </tr>\n",
              "    <tr>\n",
              "      <th>2017-05-20</th>\n",
              "      <td>acacia</td>\n",
              "      <td>1</td>\n",
              "      <td>1</td>\n",
              "      <td>90.0</td>\n",
              "      <td>cash</td>\n",
              "      <td>yes</td>\n",
              "      <td>no</td>\n",
              "      <td>no</td>\n",
              "      <td>no</td>\n",
              "      <td>no</td>\n",
              "      <td>no</td>\n",
              "      <td>19:12:00</td>\n",
              "      <td>night</td>\n",
              "      <td>small</td>\n",
              "      <td>saika</td>\n",
              "    </tr>\n",
              "  </tbody>\n",
              "</table>\n",
              "</div>"
            ],
            "text/plain": [
              "           supermarket  no_of_items  variation  ...  time_type type_market location\n",
              "date                                            ...                                \n",
              "2017-05-20      acacia            1          1  ...      night       small    saika\n",
              "2017-05-20      acacia            1          1  ...      night       small    saika\n",
              "\n",
              "[2 rows x 15 columns]"
            ]
          },
          "metadata": {
            "tags": []
          },
          "execution_count": 60
        }
      ]
    },
    {
      "cell_type": "code",
      "metadata": {
        "colab": {
          "base_uri": "https://localhost:8080/",
          "height": 329
        },
        "id": "cRQWutt5TmPV",
        "outputId": "86e2895e-5ed5-44c6-ed1c-bfc1d74129a8"
      },
      "source": [
        "#convert text data into numerical (encode)\r\n",
        "from sklearn.preprocessing import LabelEncoder\r\n",
        "pd.options.mode.chained_assignment = None  # default='warn'\r\n",
        "en = LabelEncoder()\r\n",
        "spc['supermarket'] = en.fit_transform(spc['supermarket'])\r\n",
        "spc['type'] = en.fit_transform(spc['type'])\r\n",
        "spc['food'] = en.fit_transform(spc['food'])\r\n",
        "spc['high_end'] = en.fit_transform(spc['high_end'])\r\n",
        "spc['mall'] = en.fit_transform(spc['mall'])\r\n",
        "spc['time_type'] = en.fit_transform(spc['time_type'])\r\n",
        "spc['type_market'] = en.fit_transform(spc['type_market'])\r\n",
        "spc['location'] = en.fit_transform(spc['location'])\r\n",
        "\r\n",
        "spc.head()\r\n"
      ],
      "execution_count": null,
      "outputs": [
        {
          "output_type": "execute_result",
          "data": {
            "text/html": [
              "<div>\n",
              "<style scoped>\n",
              "    .dataframe tbody tr th:only-of-type {\n",
              "        vertical-align: middle;\n",
              "    }\n",
              "\n",
              "    .dataframe tbody tr th {\n",
              "        vertical-align: top;\n",
              "    }\n",
              "\n",
              "    .dataframe thead th {\n",
              "        text-align: right;\n",
              "    }\n",
              "</style>\n",
              "<table border=\"1\" class=\"dataframe\">\n",
              "  <thead>\n",
              "    <tr style=\"text-align: right;\">\n",
              "      <th></th>\n",
              "      <th>supermarket</th>\n",
              "      <th>no_of_items</th>\n",
              "      <th>variation</th>\n",
              "      <th>total</th>\n",
              "      <th>type</th>\n",
              "      <th>food</th>\n",
              "      <th>snack</th>\n",
              "      <th>beverage</th>\n",
              "      <th>consumables</th>\n",
              "      <th>high_end</th>\n",
              "      <th>mall</th>\n",
              "      <th>time</th>\n",
              "      <th>time_type</th>\n",
              "      <th>type_market</th>\n",
              "      <th>location</th>\n",
              "    </tr>\n",
              "    <tr>\n",
              "      <th>date</th>\n",
              "      <th></th>\n",
              "      <th></th>\n",
              "      <th></th>\n",
              "      <th></th>\n",
              "      <th></th>\n",
              "      <th></th>\n",
              "      <th></th>\n",
              "      <th></th>\n",
              "      <th></th>\n",
              "      <th></th>\n",
              "      <th></th>\n",
              "      <th></th>\n",
              "      <th></th>\n",
              "      <th></th>\n",
              "      <th></th>\n",
              "    </tr>\n",
              "  </thead>\n",
              "  <tbody>\n",
              "    <tr>\n",
              "      <th>2017-05-20</th>\n",
              "      <td>4</td>\n",
              "      <td>1</td>\n",
              "      <td>1</td>\n",
              "      <td>90.0</td>\n",
              "      <td>1</td>\n",
              "      <td>1</td>\n",
              "      <td>no</td>\n",
              "      <td>no</td>\n",
              "      <td>no</td>\n",
              "      <td>0</td>\n",
              "      <td>0</td>\n",
              "      <td>19:33:00</td>\n",
              "      <td>4</td>\n",
              "      <td>2</td>\n",
              "      <td>25</td>\n",
              "    </tr>\n",
              "    <tr>\n",
              "      <th>2017-05-20</th>\n",
              "      <td>4</td>\n",
              "      <td>1</td>\n",
              "      <td>1</td>\n",
              "      <td>90.0</td>\n",
              "      <td>1</td>\n",
              "      <td>1</td>\n",
              "      <td>no</td>\n",
              "      <td>no</td>\n",
              "      <td>no</td>\n",
              "      <td>0</td>\n",
              "      <td>0</td>\n",
              "      <td>19:12:00</td>\n",
              "      <td>4</td>\n",
              "      <td>2</td>\n",
              "      <td>25</td>\n",
              "    </tr>\n",
              "    <tr>\n",
              "      <th>2017-05-20</th>\n",
              "      <td>4</td>\n",
              "      <td>3</td>\n",
              "      <td>1</td>\n",
              "      <td>270.0</td>\n",
              "      <td>1</td>\n",
              "      <td>1</td>\n",
              "      <td>no</td>\n",
              "      <td>no</td>\n",
              "      <td>no</td>\n",
              "      <td>0</td>\n",
              "      <td>0</td>\n",
              "      <td>19:16:00</td>\n",
              "      <td>4</td>\n",
              "      <td>2</td>\n",
              "      <td>25</td>\n",
              "    </tr>\n",
              "    <tr>\n",
              "      <th>2017-05-20</th>\n",
              "      <td>4</td>\n",
              "      <td>3</td>\n",
              "      <td>1</td>\n",
              "      <td>137.0</td>\n",
              "      <td>1</td>\n",
              "      <td>1</td>\n",
              "      <td>no</td>\n",
              "      <td>no</td>\n",
              "      <td>no</td>\n",
              "      <td>0</td>\n",
              "      <td>0</td>\n",
              "      <td>19:12:00</td>\n",
              "      <td>4</td>\n",
              "      <td>2</td>\n",
              "      <td>25</td>\n",
              "    </tr>\n",
              "    <tr>\n",
              "      <th>2017-05-20</th>\n",
              "      <td>4</td>\n",
              "      <td>1</td>\n",
              "      <td>1</td>\n",
              "      <td>75.0</td>\n",
              "      <td>1</td>\n",
              "      <td>1</td>\n",
              "      <td>no</td>\n",
              "      <td>no</td>\n",
              "      <td>no</td>\n",
              "      <td>0</td>\n",
              "      <td>0</td>\n",
              "      <td>18:31:00</td>\n",
              "      <td>0</td>\n",
              "      <td>2</td>\n",
              "      <td>25</td>\n",
              "    </tr>\n",
              "  </tbody>\n",
              "</table>\n",
              "</div>"
            ],
            "text/plain": [
              "            supermarket  no_of_items  ...  type_market  location\n",
              "date                                  ...                       \n",
              "2017-05-20            4            1  ...            2        25\n",
              "2017-05-20            4            1  ...            2        25\n",
              "2017-05-20            4            3  ...            2        25\n",
              "2017-05-20            4            3  ...            2        25\n",
              "2017-05-20            4            1  ...            2        25\n",
              "\n",
              "[5 rows x 15 columns]"
            ]
          },
          "metadata": {
            "tags": []
          },
          "execution_count": 112
        }
      ]
    },
    {
      "cell_type": "code",
      "metadata": {
        "colab": {
          "base_uri": "https://localhost:8080/"
        },
        "id": "ihsLW6jEU165",
        "outputId": "fb43189c-0b73-4a91-c731-a298af3cd3ba"
      },
      "source": [
        "#LDA\r\n",
        "from sklearn.discriminant_analysis import LinearDiscriminantAnalysis as LDA\r\n",
        "\r\n",
        "#features (cols)\r\n",
        "cols = spc.drop(['snack','beverage','consumables','time'], axis=1)\r\n",
        "target = spc['food']\r\n",
        "\r\n",
        "#standardise the data\r\n",
        "xxx\r\n",
        "sc = StandardScaler()\r\n",
        "X_train = sc.fit_transform(X_train)\r\n",
        "X_test = sc.transform(X_test)\r\n",
        "#initialise it\r\n",
        "lda = LDA()\r\n",
        "\r\n",
        "lda_= lda.fit(cols, target)\r\n",
        "lda_feat = lda_.transform(cols)\r\n",
        "\r\n",
        "#show co-efficients of the columns\r\n",
        "lda_.coef_"
      ],
      "execution_count": null,
      "outputs": [
        {
          "output_type": "execute_result",
          "data": {
            "text/plain": [
              "array([[-2.40538601e-02,  1.87022517e-01,  5.71328805e-01,\n",
              "        -1.57231803e-04, -1.11370586e-01,  9.36963528e-17,\n",
              "        -1.26152691e+00,  2.66637455e-01,  2.21873815e-01,\n",
              "        -8.05877952e-02,  3.32164294e-02]])"
            ]
          },
          "metadata": {
            "tags": []
          },
          "execution_count": 114
        }
      ]
    },
    {
      "cell_type": "code",
      "metadata": {
        "colab": {
          "base_uri": "https://localhost:8080/",
          "height": 373
        },
        "id": "ERlRb91PWt68",
        "outputId": "d9b77c18-7b60-44d8-81ed-8ef824372965"
      },
      "source": [
        "#creating a df to store the features that have highest co-efficients\r\n",
        "feat_matters = pd.DataFrame(index=cols.columns.values, data = lda_.coef_[0].T)\r\n",
        "feat_matters.sort_values(0, ascending =False)"
      ],
      "execution_count": null,
      "outputs": [
        {
          "output_type": "execute_result",
          "data": {
            "text/html": [
              "<div>\n",
              "<style scoped>\n",
              "    .dataframe tbody tr th:only-of-type {\n",
              "        vertical-align: middle;\n",
              "    }\n",
              "\n",
              "    .dataframe tbody tr th {\n",
              "        vertical-align: top;\n",
              "    }\n",
              "\n",
              "    .dataframe thead th {\n",
              "        text-align: right;\n",
              "    }\n",
              "</style>\n",
              "<table border=\"1\" class=\"dataframe\">\n",
              "  <thead>\n",
              "    <tr style=\"text-align: right;\">\n",
              "      <th></th>\n",
              "      <th>0</th>\n",
              "    </tr>\n",
              "  </thead>\n",
              "  <tbody>\n",
              "    <tr>\n",
              "      <th>variation</th>\n",
              "      <td>5.713288e-01</td>\n",
              "    </tr>\n",
              "    <tr>\n",
              "      <th>mall</th>\n",
              "      <td>2.666375e-01</td>\n",
              "    </tr>\n",
              "    <tr>\n",
              "      <th>time_type</th>\n",
              "      <td>2.218738e-01</td>\n",
              "    </tr>\n",
              "    <tr>\n",
              "      <th>no_of_items</th>\n",
              "      <td>1.870225e-01</td>\n",
              "    </tr>\n",
              "    <tr>\n",
              "      <th>location</th>\n",
              "      <td>3.321643e-02</td>\n",
              "    </tr>\n",
              "    <tr>\n",
              "      <th>food</th>\n",
              "      <td>9.369635e-17</td>\n",
              "    </tr>\n",
              "    <tr>\n",
              "      <th>total</th>\n",
              "      <td>-1.572318e-04</td>\n",
              "    </tr>\n",
              "    <tr>\n",
              "      <th>supermarket</th>\n",
              "      <td>-2.405386e-02</td>\n",
              "    </tr>\n",
              "    <tr>\n",
              "      <th>type_market</th>\n",
              "      <td>-8.058780e-02</td>\n",
              "    </tr>\n",
              "    <tr>\n",
              "      <th>type</th>\n",
              "      <td>-1.113706e-01</td>\n",
              "    </tr>\n",
              "    <tr>\n",
              "      <th>high_end</th>\n",
              "      <td>-1.261527e+00</td>\n",
              "    </tr>\n",
              "  </tbody>\n",
              "</table>\n",
              "</div>"
            ],
            "text/plain": [
              "                        0\n",
              "variation    5.713288e-01\n",
              "mall         2.666375e-01\n",
              "time_type    2.218738e-01\n",
              "no_of_items  1.870225e-01\n",
              "location     3.321643e-02\n",
              "food         9.369635e-17\n",
              "total       -1.572318e-04\n",
              "supermarket -2.405386e-02\n",
              "type_market -8.058780e-02\n",
              "type        -1.113706e-01\n",
              "high_end    -1.261527e+00"
            ]
          },
          "metadata": {
            "tags": []
          },
          "execution_count": 115
        }
      ]
    },
    {
      "cell_type": "markdown",
      "metadata": {
        "id": "-Z-dkObMMU8S"
      },
      "source": [
        "# Hypothesis Test"
      ]
    },
    {
      "cell_type": "markdown",
      "metadata": {
        "id": "JjtZ0nwGQkaS"
      },
      "source": [
        "## Test"
      ]
    },
    {
      "cell_type": "markdown",
      "metadata": {
        "id": "_RjkcAAOQnQL"
      },
      "source": [
        "Ho: Average money spent in chain stores to buy food >= Average money spent in small stores to buy food\r\n",
        "\r\n",
        "Ha: Average money spent in chain stores to buy food < Average money spent in small stores to buy food"
      ]
    },
    {
      "cell_type": "markdown",
      "metadata": {
        "id": "PA6u4DPzMbB9"
      },
      "source": [
        "## Sampling"
      ]
    },
    {
      "cell_type": "code",
      "metadata": {
        "id": "CvkJX7sPZ7db",
        "colab": {
          "base_uri": "https://localhost:8080/",
          "height": 329
        },
        "outputId": "58c81ea5-3b53-4757-c7d4-694e684247a1"
      },
      "source": [
        "spc.head()"
      ],
      "execution_count": 39,
      "outputs": [
        {
          "output_type": "execute_result",
          "data": {
            "text/html": [
              "<div>\n",
              "<style scoped>\n",
              "    .dataframe tbody tr th:only-of-type {\n",
              "        vertical-align: middle;\n",
              "    }\n",
              "\n",
              "    .dataframe tbody tr th {\n",
              "        vertical-align: top;\n",
              "    }\n",
              "\n",
              "    .dataframe thead th {\n",
              "        text-align: right;\n",
              "    }\n",
              "</style>\n",
              "<table border=\"1\" class=\"dataframe\">\n",
              "  <thead>\n",
              "    <tr style=\"text-align: right;\">\n",
              "      <th></th>\n",
              "      <th>supermarket</th>\n",
              "      <th>no_of_items</th>\n",
              "      <th>variation</th>\n",
              "      <th>total</th>\n",
              "      <th>type</th>\n",
              "      <th>food</th>\n",
              "      <th>snack</th>\n",
              "      <th>beverage</th>\n",
              "      <th>consumables</th>\n",
              "      <th>high_end</th>\n",
              "      <th>mall</th>\n",
              "      <th>time</th>\n",
              "      <th>time_type</th>\n",
              "      <th>type_market</th>\n",
              "      <th>location</th>\n",
              "    </tr>\n",
              "    <tr>\n",
              "      <th>date</th>\n",
              "      <th></th>\n",
              "      <th></th>\n",
              "      <th></th>\n",
              "      <th></th>\n",
              "      <th></th>\n",
              "      <th></th>\n",
              "      <th></th>\n",
              "      <th></th>\n",
              "      <th></th>\n",
              "      <th></th>\n",
              "      <th></th>\n",
              "      <th></th>\n",
              "      <th></th>\n",
              "      <th></th>\n",
              "      <th></th>\n",
              "    </tr>\n",
              "  </thead>\n",
              "  <tbody>\n",
              "    <tr>\n",
              "      <th>2017-05-20</th>\n",
              "      <td>acacia</td>\n",
              "      <td>1</td>\n",
              "      <td>1</td>\n",
              "      <td>90.0</td>\n",
              "      <td>cash</td>\n",
              "      <td>yes</td>\n",
              "      <td>no</td>\n",
              "      <td>no</td>\n",
              "      <td>no</td>\n",
              "      <td>no</td>\n",
              "      <td>no</td>\n",
              "      <td>19:33:00</td>\n",
              "      <td>night</td>\n",
              "      <td>small</td>\n",
              "      <td>saika</td>\n",
              "    </tr>\n",
              "    <tr>\n",
              "      <th>2017-05-20</th>\n",
              "      <td>acacia</td>\n",
              "      <td>1</td>\n",
              "      <td>1</td>\n",
              "      <td>90.0</td>\n",
              "      <td>cash</td>\n",
              "      <td>yes</td>\n",
              "      <td>no</td>\n",
              "      <td>no</td>\n",
              "      <td>no</td>\n",
              "      <td>no</td>\n",
              "      <td>no</td>\n",
              "      <td>19:12:00</td>\n",
              "      <td>night</td>\n",
              "      <td>small</td>\n",
              "      <td>saika</td>\n",
              "    </tr>\n",
              "    <tr>\n",
              "      <th>2017-05-20</th>\n",
              "      <td>acacia</td>\n",
              "      <td>3</td>\n",
              "      <td>1</td>\n",
              "      <td>270.0</td>\n",
              "      <td>cash</td>\n",
              "      <td>yes</td>\n",
              "      <td>no</td>\n",
              "      <td>no</td>\n",
              "      <td>no</td>\n",
              "      <td>no</td>\n",
              "      <td>no</td>\n",
              "      <td>19:16:00</td>\n",
              "      <td>night</td>\n",
              "      <td>small</td>\n",
              "      <td>saika</td>\n",
              "    </tr>\n",
              "    <tr>\n",
              "      <th>2017-05-20</th>\n",
              "      <td>acacia</td>\n",
              "      <td>3</td>\n",
              "      <td>1</td>\n",
              "      <td>137.0</td>\n",
              "      <td>cash</td>\n",
              "      <td>yes</td>\n",
              "      <td>no</td>\n",
              "      <td>no</td>\n",
              "      <td>no</td>\n",
              "      <td>no</td>\n",
              "      <td>no</td>\n",
              "      <td>19:12:00</td>\n",
              "      <td>night</td>\n",
              "      <td>small</td>\n",
              "      <td>saika</td>\n",
              "    </tr>\n",
              "    <tr>\n",
              "      <th>2017-05-20</th>\n",
              "      <td>acacia</td>\n",
              "      <td>1</td>\n",
              "      <td>1</td>\n",
              "      <td>75.0</td>\n",
              "      <td>cash</td>\n",
              "      <td>yes</td>\n",
              "      <td>no</td>\n",
              "      <td>no</td>\n",
              "      <td>no</td>\n",
              "      <td>no</td>\n",
              "      <td>no</td>\n",
              "      <td>18:31:00</td>\n",
              "      <td>afternoon</td>\n",
              "      <td>small</td>\n",
              "      <td>saika</td>\n",
              "    </tr>\n",
              "  </tbody>\n",
              "</table>\n",
              "</div>"
            ],
            "text/plain": [
              "           supermarket  no_of_items  variation  ...  time_type type_market location\n",
              "date                                            ...                                \n",
              "2017-05-20      acacia            1          1  ...      night       small    saika\n",
              "2017-05-20      acacia            1          1  ...      night       small    saika\n",
              "2017-05-20      acacia            3          1  ...      night       small    saika\n",
              "2017-05-20      acacia            3          1  ...      night       small    saika\n",
              "2017-05-20      acacia            1          1  ...  afternoon       small    saika\n",
              "\n",
              "[5 rows x 15 columns]"
            ]
          },
          "metadata": {
            "tags": []
          },
          "execution_count": 39
        }
      ]
    },
    {
      "cell_type": "code",
      "metadata": {
        "colab": {
          "base_uri": "https://localhost:8080/"
        },
        "id": "P0qT40HNMgIV",
        "outputId": "f897d2a6-97f1-44ff-8bd7-b75693e64b07"
      },
      "source": [
        "spc['type_market'].unique()"
      ],
      "execution_count": 40,
      "outputs": [
        {
          "output_type": "execute_result",
          "data": {
            "text/plain": [
              "array(['small', 'median', 'chain'], dtype=object)"
            ]
          },
          "metadata": {
            "tags": []
          },
          "execution_count": 40
        }
      ]
    },
    {
      "cell_type": "markdown",
      "metadata": {
        "id": "z4HdQN6bMx-e"
      },
      "source": [
        "Sample the Small and Chain types to test a hypothesis in proportion to the count."
      ]
    },
    {
      "cell_type": "code",
      "metadata": {
        "colab": {
          "base_uri": "https://localhost:8080/"
        },
        "id": "4ag1bwKmMs1L",
        "outputId": "13595248-7e71-42b2-c815-daba92f4d038"
      },
      "source": [
        "spc['type_market'].value_counts()"
      ],
      "execution_count": 45,
      "outputs": [
        {
          "output_type": "execute_result",
          "data": {
            "text/plain": [
              "chain     1265\n",
              "small      130\n",
              "median      37\n",
              "Name: type_market, dtype: int64"
            ]
          },
          "metadata": {
            "tags": []
          },
          "execution_count": 45
        }
      ]
    },
    {
      "cell_type": "code",
      "metadata": {
        "colab": {
          "base_uri": "https://localhost:8080/",
          "height": 619
        },
        "id": "V-mzzGRsORTe",
        "outputId": "d9078148-13fa-4258-d6e5-b72d625535b8"
      },
      "source": [
        "#making the data chain and small only\r\n",
        "spc = spc[(spc['type_market'] == 'chain') | (spc['type_market'] == 'small')]\r\n",
        "spc = spc[spc['food'] == 'yes']\r\n",
        "spc"
      ],
      "execution_count": 74,
      "outputs": [
        {
          "output_type": "execute_result",
          "data": {
            "text/html": [
              "<div>\n",
              "<style scoped>\n",
              "    .dataframe tbody tr th:only-of-type {\n",
              "        vertical-align: middle;\n",
              "    }\n",
              "\n",
              "    .dataframe tbody tr th {\n",
              "        vertical-align: top;\n",
              "    }\n",
              "\n",
              "    .dataframe thead th {\n",
              "        text-align: right;\n",
              "    }\n",
              "</style>\n",
              "<table border=\"1\" class=\"dataframe\">\n",
              "  <thead>\n",
              "    <tr style=\"text-align: right;\">\n",
              "      <th></th>\n",
              "      <th>supermarket</th>\n",
              "      <th>no_of_items</th>\n",
              "      <th>variation</th>\n",
              "      <th>total</th>\n",
              "      <th>type</th>\n",
              "      <th>food</th>\n",
              "      <th>snack</th>\n",
              "      <th>beverage</th>\n",
              "      <th>consumables</th>\n",
              "      <th>high_end</th>\n",
              "      <th>mall</th>\n",
              "      <th>time</th>\n",
              "      <th>time_type</th>\n",
              "      <th>type_market</th>\n",
              "      <th>location</th>\n",
              "    </tr>\n",
              "    <tr>\n",
              "      <th>date</th>\n",
              "      <th></th>\n",
              "      <th></th>\n",
              "      <th></th>\n",
              "      <th></th>\n",
              "      <th></th>\n",
              "      <th></th>\n",
              "      <th></th>\n",
              "      <th></th>\n",
              "      <th></th>\n",
              "      <th></th>\n",
              "      <th></th>\n",
              "      <th></th>\n",
              "      <th></th>\n",
              "      <th></th>\n",
              "      <th></th>\n",
              "    </tr>\n",
              "  </thead>\n",
              "  <tbody>\n",
              "    <tr>\n",
              "      <th>2017-05-20</th>\n",
              "      <td>acacia</td>\n",
              "      <td>1</td>\n",
              "      <td>1</td>\n",
              "      <td>90.0</td>\n",
              "      <td>cash</td>\n",
              "      <td>yes</td>\n",
              "      <td>no</td>\n",
              "      <td>no</td>\n",
              "      <td>no</td>\n",
              "      <td>no</td>\n",
              "      <td>no</td>\n",
              "      <td>19:33:00</td>\n",
              "      <td>night</td>\n",
              "      <td>small</td>\n",
              "      <td>saika</td>\n",
              "    </tr>\n",
              "    <tr>\n",
              "      <th>2017-05-20</th>\n",
              "      <td>acacia</td>\n",
              "      <td>1</td>\n",
              "      <td>1</td>\n",
              "      <td>90.0</td>\n",
              "      <td>cash</td>\n",
              "      <td>yes</td>\n",
              "      <td>no</td>\n",
              "      <td>no</td>\n",
              "      <td>no</td>\n",
              "      <td>no</td>\n",
              "      <td>no</td>\n",
              "      <td>19:12:00</td>\n",
              "      <td>night</td>\n",
              "      <td>small</td>\n",
              "      <td>saika</td>\n",
              "    </tr>\n",
              "    <tr>\n",
              "      <th>2017-05-20</th>\n",
              "      <td>acacia</td>\n",
              "      <td>3</td>\n",
              "      <td>1</td>\n",
              "      <td>270.0</td>\n",
              "      <td>cash</td>\n",
              "      <td>yes</td>\n",
              "      <td>no</td>\n",
              "      <td>no</td>\n",
              "      <td>no</td>\n",
              "      <td>no</td>\n",
              "      <td>no</td>\n",
              "      <td>19:16:00</td>\n",
              "      <td>night</td>\n",
              "      <td>small</td>\n",
              "      <td>saika</td>\n",
              "    </tr>\n",
              "    <tr>\n",
              "      <th>2017-05-20</th>\n",
              "      <td>acacia</td>\n",
              "      <td>3</td>\n",
              "      <td>1</td>\n",
              "      <td>137.0</td>\n",
              "      <td>cash</td>\n",
              "      <td>yes</td>\n",
              "      <td>no</td>\n",
              "      <td>no</td>\n",
              "      <td>no</td>\n",
              "      <td>no</td>\n",
              "      <td>no</td>\n",
              "      <td>19:12:00</td>\n",
              "      <td>night</td>\n",
              "      <td>small</td>\n",
              "      <td>saika</td>\n",
              "    </tr>\n",
              "    <tr>\n",
              "      <th>2017-05-20</th>\n",
              "      <td>acacia</td>\n",
              "      <td>1</td>\n",
              "      <td>1</td>\n",
              "      <td>75.0</td>\n",
              "      <td>cash</td>\n",
              "      <td>yes</td>\n",
              "      <td>no</td>\n",
              "      <td>no</td>\n",
              "      <td>no</td>\n",
              "      <td>no</td>\n",
              "      <td>no</td>\n",
              "      <td>18:31:00</td>\n",
              "      <td>afternoon</td>\n",
              "      <td>small</td>\n",
              "      <td>saika</td>\n",
              "    </tr>\n",
              "    <tr>\n",
              "      <th>...</th>\n",
              "      <td>...</td>\n",
              "      <td>...</td>\n",
              "      <td>...</td>\n",
              "      <td>...</td>\n",
              "      <td>...</td>\n",
              "      <td>...</td>\n",
              "      <td>...</td>\n",
              "      <td>...</td>\n",
              "      <td>...</td>\n",
              "      <td>...</td>\n",
              "      <td>...</td>\n",
              "      <td>...</td>\n",
              "      <td>...</td>\n",
              "      <td>...</td>\n",
              "      <td>...</td>\n",
              "    </tr>\n",
              "    <tr>\n",
              "      <th>2017-06-15</th>\n",
              "      <td>tuskys</td>\n",
              "      <td>1</td>\n",
              "      <td>1</td>\n",
              "      <td>90.0</td>\n",
              "      <td>cash</td>\n",
              "      <td>yes</td>\n",
              "      <td>no</td>\n",
              "      <td>no</td>\n",
              "      <td>no</td>\n",
              "      <td>no</td>\n",
              "      <td>yes</td>\n",
              "      <td>20:02:00</td>\n",
              "      <td>night</td>\n",
              "      <td>chain</td>\n",
              "      <td>greenspan</td>\n",
              "    </tr>\n",
              "    <tr>\n",
              "      <th>2017-07-17</th>\n",
              "      <td>nakumatt</td>\n",
              "      <td>2</td>\n",
              "      <td>3</td>\n",
              "      <td>516.0</td>\n",
              "      <td>card</td>\n",
              "      <td>yes</td>\n",
              "      <td>no</td>\n",
              "      <td>yes</td>\n",
              "      <td>no</td>\n",
              "      <td>yes</td>\n",
              "      <td>yes</td>\n",
              "      <td>21:00:00</td>\n",
              "      <td>night</td>\n",
              "      <td>chain</td>\n",
              "      <td>junction</td>\n",
              "    </tr>\n",
              "    <tr>\n",
              "      <th>2017-06-30</th>\n",
              "      <td>tuskys</td>\n",
              "      <td>2</td>\n",
              "      <td>1</td>\n",
              "      <td>290.0</td>\n",
              "      <td>cash</td>\n",
              "      <td>yes</td>\n",
              "      <td>no</td>\n",
              "      <td>no</td>\n",
              "      <td>no</td>\n",
              "      <td>no</td>\n",
              "      <td>no</td>\n",
              "      <td>21:09:00</td>\n",
              "      <td>night</td>\n",
              "      <td>chain</td>\n",
              "      <td>cbd</td>\n",
              "    </tr>\n",
              "    <tr>\n",
              "      <th>2017-05-08</th>\n",
              "      <td>tuskys</td>\n",
              "      <td>5</td>\n",
              "      <td>2</td>\n",
              "      <td>596.0</td>\n",
              "      <td>cash</td>\n",
              "      <td>yes</td>\n",
              "      <td>no</td>\n",
              "      <td>no</td>\n",
              "      <td>yes</td>\n",
              "      <td>no</td>\n",
              "      <td>yes</td>\n",
              "      <td>11:00:00</td>\n",
              "      <td>morning</td>\n",
              "      <td>chain</td>\n",
              "      <td>greenspan</td>\n",
              "    </tr>\n",
              "    <tr>\n",
              "      <th>2017-06-23</th>\n",
              "      <td>Eastmatt</td>\n",
              "      <td>2</td>\n",
              "      <td>2</td>\n",
              "      <td>120.0</td>\n",
              "      <td>cash</td>\n",
              "      <td>yes</td>\n",
              "      <td>yes</td>\n",
              "      <td>no</td>\n",
              "      <td>no</td>\n",
              "      <td>no</td>\n",
              "      <td>no</td>\n",
              "      <td>16:51:00</td>\n",
              "      <td>evening</td>\n",
              "      <td>chain</td>\n",
              "      <td>cbd</td>\n",
              "    </tr>\n",
              "  </tbody>\n",
              "</table>\n",
              "<p>687 rows × 15 columns</p>\n",
              "</div>"
            ],
            "text/plain": [
              "           supermarket  no_of_items  ...  type_market   location\n",
              "date                                 ...                        \n",
              "2017-05-20      acacia            1  ...        small      saika\n",
              "2017-05-20      acacia            1  ...        small      saika\n",
              "2017-05-20      acacia            3  ...        small      saika\n",
              "2017-05-20      acacia            3  ...        small      saika\n",
              "2017-05-20      acacia            1  ...        small      saika\n",
              "...                ...          ...  ...          ...        ...\n",
              "2017-06-15      tuskys            1  ...        chain  greenspan\n",
              "2017-07-17    nakumatt            2  ...        chain   junction\n",
              "2017-06-30      tuskys            2  ...        chain        cbd\n",
              "2017-05-08      tuskys            5  ...        chain  greenspan\n",
              "2017-06-23    Eastmatt            2  ...        chain        cbd\n",
              "\n",
              "[687 rows x 15 columns]"
            ]
          },
          "metadata": {
            "tags": []
          },
          "execution_count": 74
        }
      ]
    },
    {
      "cell_type": "code",
      "metadata": {
        "colab": {
          "base_uri": "https://localhost:8080/"
        },
        "id": "U2AqRVNIPk2Q",
        "outputId": "dbf539f8-27cf-41ef-a696-af77363c25e1"
      },
      "source": [
        "spc['type_market'].value_counts()"
      ],
      "execution_count": 75,
      "outputs": [
        {
          "output_type": "execute_result",
          "data": {
            "text/plain": [
              "chain    627\n",
              "small     60\n",
              "Name: type_market, dtype: int64"
            ]
          },
          "metadata": {
            "tags": []
          },
          "execution_count": 75
        }
      ]
    },
    {
      "cell_type": "code",
      "metadata": {
        "colab": {
          "base_uri": "https://localhost:8080/",
          "height": 329
        },
        "id": "Ui2nhp18M_I8",
        "outputId": "91f02995-c20b-4902-ccca-5e80eb6aebc3"
      },
      "source": [
        "# Using the Stratified technique we want to split the dataset in such a way that 70% of our dataset will be train set and 30% will be test set. \r\n",
        "#Furthermore, the proportion of chain and small stores will be maintained as in the original data.\r\n",
        "\r\n",
        "# Stratified market type sample\r\n",
        "spc_strat_datset = spc.groupby('type_market', group_keys=False).apply(lambda grouped_subset : grouped_subset.sample(frac=0.7))\r\n",
        "\r\n",
        "# preview the stratified train dataset\r\n",
        "spc_strat_datset.head()\r\n",
        "\r\n"
      ],
      "execution_count": 76,
      "outputs": [
        {
          "output_type": "execute_result",
          "data": {
            "text/html": [
              "<div>\n",
              "<style scoped>\n",
              "    .dataframe tbody tr th:only-of-type {\n",
              "        vertical-align: middle;\n",
              "    }\n",
              "\n",
              "    .dataframe tbody tr th {\n",
              "        vertical-align: top;\n",
              "    }\n",
              "\n",
              "    .dataframe thead th {\n",
              "        text-align: right;\n",
              "    }\n",
              "</style>\n",
              "<table border=\"1\" class=\"dataframe\">\n",
              "  <thead>\n",
              "    <tr style=\"text-align: right;\">\n",
              "      <th></th>\n",
              "      <th>supermarket</th>\n",
              "      <th>no_of_items</th>\n",
              "      <th>variation</th>\n",
              "      <th>total</th>\n",
              "      <th>type</th>\n",
              "      <th>food</th>\n",
              "      <th>snack</th>\n",
              "      <th>beverage</th>\n",
              "      <th>consumables</th>\n",
              "      <th>high_end</th>\n",
              "      <th>mall</th>\n",
              "      <th>time</th>\n",
              "      <th>time_type</th>\n",
              "      <th>type_market</th>\n",
              "      <th>location</th>\n",
              "    </tr>\n",
              "    <tr>\n",
              "      <th>date</th>\n",
              "      <th></th>\n",
              "      <th></th>\n",
              "      <th></th>\n",
              "      <th></th>\n",
              "      <th></th>\n",
              "      <th></th>\n",
              "      <th></th>\n",
              "      <th></th>\n",
              "      <th></th>\n",
              "      <th></th>\n",
              "      <th></th>\n",
              "      <th></th>\n",
              "      <th></th>\n",
              "      <th></th>\n",
              "      <th></th>\n",
              "    </tr>\n",
              "  </thead>\n",
              "  <tbody>\n",
              "    <tr>\n",
              "      <th>2017-05-23</th>\n",
              "      <td>karrymart</td>\n",
              "      <td>3</td>\n",
              "      <td>1</td>\n",
              "      <td>225.0</td>\n",
              "      <td>cash</td>\n",
              "      <td>yes</td>\n",
              "      <td>yes</td>\n",
              "      <td>yes</td>\n",
              "      <td>no</td>\n",
              "      <td>no</td>\n",
              "      <td>no</td>\n",
              "      <td>18:01:00</td>\n",
              "      <td>evening</td>\n",
              "      <td>chain</td>\n",
              "      <td>cbd</td>\n",
              "    </tr>\n",
              "    <tr>\n",
              "      <th>2017-09-03</th>\n",
              "      <td>cleanshelf</td>\n",
              "      <td>2</td>\n",
              "      <td>1</td>\n",
              "      <td>330.0</td>\n",
              "      <td>cash</td>\n",
              "      <td>yes</td>\n",
              "      <td>no</td>\n",
              "      <td>no</td>\n",
              "      <td>no</td>\n",
              "      <td>no</td>\n",
              "      <td>no</td>\n",
              "      <td>17:32:00</td>\n",
              "      <td>evening</td>\n",
              "      <td>chain</td>\n",
              "      <td>ongata rongai</td>\n",
              "    </tr>\n",
              "    <tr>\n",
              "      <th>2017-05-23</th>\n",
              "      <td>karrymart</td>\n",
              "      <td>1</td>\n",
              "      <td>1</td>\n",
              "      <td>126.0</td>\n",
              "      <td>cash</td>\n",
              "      <td>yes</td>\n",
              "      <td>no</td>\n",
              "      <td>no</td>\n",
              "      <td>yes</td>\n",
              "      <td>no</td>\n",
              "      <td>no</td>\n",
              "      <td>06:05:00</td>\n",
              "      <td>morning</td>\n",
              "      <td>chain</td>\n",
              "      <td>cbd</td>\n",
              "    </tr>\n",
              "    <tr>\n",
              "      <th>2017-05-21</th>\n",
              "      <td>tuskys</td>\n",
              "      <td>3</td>\n",
              "      <td>1</td>\n",
              "      <td>357.0</td>\n",
              "      <td>cash</td>\n",
              "      <td>yes</td>\n",
              "      <td>no</td>\n",
              "      <td>no</td>\n",
              "      <td>no</td>\n",
              "      <td>no</td>\n",
              "      <td>no</td>\n",
              "      <td>10:07:00</td>\n",
              "      <td>morning</td>\n",
              "      <td>chain</td>\n",
              "      <td>cbd</td>\n",
              "    </tr>\n",
              "    <tr>\n",
              "      <th>2017-09-08</th>\n",
              "      <td>tumaini</td>\n",
              "      <td>5</td>\n",
              "      <td>3</td>\n",
              "      <td>235.0</td>\n",
              "      <td>cash</td>\n",
              "      <td>yes</td>\n",
              "      <td>yes</td>\n",
              "      <td>no</td>\n",
              "      <td>no</td>\n",
              "      <td>no</td>\n",
              "      <td>no</td>\n",
              "      <td>17:20:00</td>\n",
              "      <td>evening</td>\n",
              "      <td>chain</td>\n",
              "      <td>ongata rongai</td>\n",
              "    </tr>\n",
              "  </tbody>\n",
              "</table>\n",
              "</div>"
            ],
            "text/plain": [
              "           supermarket  no_of_items  ...  type_market       location\n",
              "date                                 ...                            \n",
              "2017-05-23   karrymart            3  ...        chain            cbd\n",
              "2017-09-03  cleanshelf            2  ...        chain  ongata rongai\n",
              "2017-05-23   karrymart            1  ...        chain            cbd\n",
              "2017-05-21      tuskys            3  ...        chain            cbd\n",
              "2017-09-08     tumaini            5  ...        chain  ongata rongai\n",
              "\n",
              "[5 rows x 15 columns]"
            ]
          },
          "metadata": {
            "tags": []
          },
          "execution_count": 76
        }
      ]
    },
    {
      "cell_type": "code",
      "metadata": {
        "colab": {
          "base_uri": "https://localhost:8080/",
          "height": 513
        },
        "id": "BKvvsPxlP33D",
        "outputId": "a4e6ab25-181d-4270-cf59-519a34d11dcd"
      },
      "source": [
        "#checking the distributions:\r\n",
        "#chain:\r\n",
        "spc_c = spc[spc['type_market'] == 'chain']\r\n",
        "plt.figure(figsize=(15,8))\r\n",
        "plt.hist(spc_c['total'])\r\n",
        "plt.axvline(spc_c.total.mean(), color='r', linestyle='dashed', linewidth=1)\r\n",
        "plt.title('Histogram of Total Money Spent in Chains')\r\n",
        "plt.xlabel('Amount of Money Spent')\r\n",
        "plt.show()"
      ],
      "execution_count": 77,
      "outputs": [
        {
          "output_type": "display_data",
          "data": {
            "image/png": "[encoded data removed]",
            "text/plain": [
              "<Figure size 1080x576 with 1 Axes>"
            ]
          },
          "metadata": {
            "tags": [],
            "needs_background": "light"
          }
        }
      ]
    },
    {
      "cell_type": "code",
      "metadata": {
        "colab": {
          "base_uri": "https://localhost:8080/",
          "height": 513
        },
        "id": "nnE8lplXSB9a",
        "outputId": "326fbb78-9b26-4283-c7cb-500e868fd10c"
      },
      "source": [
        "#checking the distributions:\r\n",
        "#small:\r\n",
        "\r\n",
        "spc_s = spc[spc['type_market'] == 'small']\r\n",
        "plt.figure(figsize=(15,8))\r\n",
        "plt.hist(spc_s['total'])\r\n",
        "plt.axvline(spc_s.total.mean(), color='r', linestyle='dashed', linewidth=1)\r\n",
        "plt.title('Histogram of Total Money Spent in Small Stores')\r\n",
        "plt.xlabel('Amount of Money Spent')\r\n",
        "plt.show()"
      ],
      "execution_count": 78,
      "outputs": [
        {
          "output_type": "display_data",
          "data": {
            "image/png": "[encoded data removed]",
            "text/plain": [
              "<Figure size 1080x576 with 1 Axes>"
            ]
          },
          "metadata": {
            "tags": [],
            "needs_background": "light"
          }
        }
      ]
    },
    {
      "cell_type": "code",
      "metadata": {
        "colab": {
          "base_uri": "https://localhost:8080/"
        },
        "id": "QqXfbauPSuiY",
        "outputId": "01b9d475-a33b-498f-d344-add38fd0d1d6"
      },
      "source": [
        "#Carrying out the one-tailed Z test:\r\n",
        "\r\n",
        "from scipy import stats\r\n",
        "from statsmodels.stats import weightstats as stests\r\n",
        "\r\n",
        "ztest ,pval = stests.ztest(spc_c['total'], x2=spc_s['total'], value=0,alternative= 'smaller')\r\n",
        "print(float(pval))\r\n",
        "\r\n",
        "#setting the significance level of 0.05\r\n",
        "alpha = 0.05 \r\n",
        "if pval < alpha:\r\n",
        "    print(\"reject null hypothesis\")\r\n",
        "else:\r\n",
        "    print(\"accept null hypothesis\")"
      ],
      "execution_count": 80,
      "outputs": [
        {
          "output_type": "stream",
          "text": [
            "0.8997928632415659\n",
            "accept null hypothesis\n"
          ],
          "name": "stdout"
        }
      ]
    },
    {
      "cell_type": "markdown",
      "metadata": {
        "id": "GhctEH6wUpgb"
      },
      "source": [
        "Given the results its clear that we do not have enough evidence to reject the null hypothesis. The reason for the very high p-value can point to lack of sufficient information to start with (scope of the information may be limited and thus biased before carrying out the test). Therefore, as per the information we have at hand the average amount of money spent to buy food in chain stores is much greater than that spent in small stores."
      ]
    }
  ]
}